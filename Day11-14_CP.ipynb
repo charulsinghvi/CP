{
 "cells": [
  {
   "cell_type": "code",
   "execution_count": 2,
   "metadata": {},
   "outputs": [],
   "source": [
    "# import requests\n",
    "# import json \n",
    "# import csv \n",
    "# import pandas as pd\n",
    "# from functools import reduce\n",
    "# import glob\n",
    "# import datetime\n",
    "# from datetime import timedelta\n",
    "# from datetime import datetime\n",
    "# import matplotlib.pyplot as plt\n",
    "# import time"
   ]
  },
  {
   "cell_type": "markdown",
   "metadata": {},
   "source": [
    "##### Creating file name"
   ]
  },
  {
   "cell_type": "code",
   "execution_count": 186,
   "metadata": {},
   "outputs": [
    {
     "name": "stdout",
     "output_type": "stream",
     "text": [
      "Enter link to get data: http://35.154.232.43:1200/api/stops/new?startTime=2020-02-25T10:00:00&endTime=2020-02-25T19:00:00\n"
     ]
    }
   ],
   "source": [
    "link = input('Enter link to get data: ')"
   ]
  },
  {
   "cell_type": "code",
   "execution_count": 187,
   "metadata": {},
   "outputs": [
    {
     "data": {
      "text/plain": [
       "'2020-02-25-600BPH'"
      ]
     },
     "execution_count": 187,
     "metadata": {},
     "output_type": "execute_result"
    }
   ],
   "source": [
    "if '35.154.232.43:1200' in link:\n",
    "    file_name = link.split('startTime=')[1][0:10] + '-600BPH'\n",
    "elif '13.232.241.117:1200' in link:\n",
    "    file_name = link.split('startTime=')[1][0:10] + '-2000BPH'\n",
    "file_name"
   ]
  },
  {
   "cell_type": "markdown",
   "metadata": {},
   "source": [
    "###### Reading json data in python file by hitting a link"
   ]
  },
  {
   "cell_type": "code",
   "execution_count": 188,
   "metadata": {},
   "outputs": [],
   "source": [
    "import requests\n",
    "\n",
    "r = requests.get(link)\n",
    "# print (r.json())\n",
    "\n",
    "# loading the data into the variable data \n",
    "a = r.json()\n",
    "\n",
    "# Storing length of file in a variable\n",
    "file_length = len(a)\n",
    "# len(a)"
   ]
  },
  {
   "cell_type": "code",
   "execution_count": 189,
   "metadata": {},
   "outputs": [],
   "source": [
    "# *RUN THIS CELL ONLY ONCE*\n",
    "\n",
    "# Python program to write JSON to a file  \n",
    "import json \n",
    "  \n",
    "# Data to be written \n",
    "with open(file_name+\".json\", \"w\") as outfile: \n",
    "    json.dump(a, outfile) "
   ]
  },
  {
   "cell_type": "markdown",
   "metadata": {},
   "source": [
    "###### Python program to convert JSON file to CSV"
   ]
  },
  {
   "cell_type": "code",
   "execution_count": 190,
   "metadata": {},
   "outputs": [],
   "source": [
    "# import json \n",
    "import csv \n",
    "  \n",
    "# Opening JSON file and loading the data into the variable data \n",
    "with open(file_name+'.json') as json_file: \n",
    "    data = json.load(json_file) "
   ]
  },
  {
   "cell_type": "code",
   "execution_count": 191,
   "metadata": {},
   "outputs": [],
   "source": [
    "# Converting json to csv \n",
    "\n",
    "# now we will open a file for writing \n",
    "data_file = open(file_name+'-1_main_file.csv', 'w', newline = '') \n",
    "  \n",
    "# create the csv writer object \n",
    "csv_writer = csv.writer(data_file) \n",
    "  \n",
    "# Counter variable used for writing  \n",
    "# headers to the CSV file \n",
    "count = 0\n",
    "  \n",
    "for dt in data: \n",
    "    \n",
    "    if count == 0: \n",
    "        # Writing headers of CSV file \n",
    "        header = dt.keys() \n",
    "        csv_writer.writerow(header) \n",
    "        count += 1\n",
    "        \n",
    "    # Writing data of CSV file \n",
    "    csv_writer.writerow(dt.values()) \n",
    "    \n",
    "data_file.close() "
   ]
  },
  {
   "cell_type": "markdown",
   "metadata": {},
   "source": [
    "###### REMOVING THE UNDEFINED DATA ROWS FROM THE FILE AND WRITING IN NEW FILE"
   ]
  },
  {
   "cell_type": "code",
   "execution_count": 192,
   "metadata": {},
   "outputs": [],
   "source": [
    "# import csv\n",
    "with open(file_name+'-1_main_file.csv', 'r') as inp, open(file_name+'-2_removedUNDEFINED.csv', 'w', newline = '') as out:\n",
    "    writer = csv.writer(out)\n",
    "    for row in csv.reader(inp):\n",
    "        try:\n",
    "            if row[5].isdigit() != 0 or row[5]=='__v':\n",
    "                writer.writerow(row)\n",
    "        except IndexError:\n",
    "            continue\n",
    "            \n",
    "inp.close()\n",
    "out.close()"
   ]
  },
  {
   "cell_type": "markdown",
   "metadata": {},
   "source": [
    "###### FIND AND REPLACE OPERATIONS IN DATAFRAME "
   ]
  },
  {
   "cell_type": "code",
   "execution_count": 194,
   "metadata": {},
   "outputs": [],
   "source": [
    "#  REPLACING Z with '' AND T with ' ' in start_time and end_time columns\n",
    "\n",
    "import pandas as pd\n",
    "\n",
    "df = pd.read_csv(file_name+'-2_removedUNDEFINED.csv')\n",
    "\n",
    "df['start_time'] = df['start_time'].str.replace('Z', '')\n",
    "df['start_time'] = df['start_time'].str.replace('T', ' ')\n",
    "df['end_time'] = df['end_time'].str.replace('Z', '')\n",
    "df['end_time'] = df['end_time'].str.replace('T', ' ')\n",
    "\n",
    "# COMMITING THE CHANGES MADE IN DATAFRAME TO THE SAME CSV FILE\n",
    "df.to_csv(file_name+'-2_find_replace.csv', index=False)"
   ]
  },
  {
   "cell_type": "markdown",
   "metadata": {},
   "source": [
    "######  Mapping fault names from different files to main file "
   ]
  },
  {
   "cell_type": "code",
   "execution_count": 195,
   "metadata": {
    "scrolled": true
   },
   "outputs": [],
   "source": [
    "from functools import reduce\n",
    "import glob\n",
    "\n",
    "file1 = glob.glob(file_name+'-2_find_replace.csv')\n",
    "df1 = [pd.read_csv(fp) for fp in file1]\n",
    "# df1 \n",
    "# '''[1601 rows x 6 columns]'''"
   ]
  },
  {
   "cell_type": "code",
   "execution_count": 196,
   "metadata": {},
   "outputs": [],
   "source": [
    "# df2 = reduce(lambda left,right: pd.merge(left,right,on='stop_name'), df1)"
   ]
  },
  {
   "cell_type": "code",
   "execution_count": 197,
   "metadata": {
    "scrolled": true
   },
   "outputs": [],
   "source": [
    "# import glob\n",
    "\n",
    "file2_1 = glob.glob('case_packer.csv')\n",
    "df2_11 = [pd.read_csv(fp, index_col = ['stop_name']) for fp in file2_1]\n",
    "\n",
    "df2_12 = pd.concat(df2_11)\n",
    "df2_12['machine_name'] = 'case_packer'\n",
    "# df2_12\n",
    "\n",
    "df2_case_packer = pd.merge(df, df2_12, on=['stop_name', 'machine_name'])\n",
    "# df2_case_packer\n",
    "\n",
    "total_case_packer = df2_case_packer['start_time'].count() "
   ]
  },
  {
   "cell_type": "code",
   "execution_count": 198,
   "metadata": {
    "scrolled": true
   },
   "outputs": [],
   "source": [
    "file2_2 = glob.glob('case_erector.csv')\n",
    "df2_21 = [pd.read_csv(fp, index_col = ['stop_name']) for fp in file2_2]\n",
    "\n",
    "df2_22 = pd.concat(df2_21)\n",
    "df2_22['machine_name'] = 'case_erector'\n",
    "# df2_22\n",
    "\n",
    "df2_case_erector=pd.merge(df, df2_22, on=['stop_name', 'machine_name'])\n",
    "# df2_case_erector\n",
    "\n",
    "total_case_erector = df2_case_erector['start_time'].count() "
   ]
  },
  {
   "cell_type": "code",
   "execution_count": 199,
   "metadata": {
    "scrolled": true
   },
   "outputs": [],
   "source": [
    "file2_3 = glob.glob('filler.csv')\n",
    "df2_31 = [pd.read_csv(fp, index_col = ['stop_name']) for fp in file2_3]\n",
    "\n",
    "df2_32 = pd.concat(df2_31)\n",
    "df2_32['machine_name'] = 'filler'\n",
    "# df2_32\n",
    "\n",
    "df2_filler=pd.merge(df, df2_32, on=['stop_name', 'machine_name'])\n",
    "# df2_filler\n",
    "\n",
    "total_filler = df2_filler['start_time'].count() "
   ]
  },
  {
   "cell_type": "code",
   "execution_count": 200,
   "metadata": {
    "scrolled": true
   },
   "outputs": [],
   "source": [
    "file2_4 = glob.glob('labeller.csv')\n",
    "df2_41 = [pd.read_csv(fp, index_col = ['stop_name']) for fp in file2_4]\n",
    "\n",
    "df2_42 = pd.concat(df2_41)\n",
    "df2_42['machine_name'] = 'labeller'\n",
    "# df2_42\n",
    "\n",
    "df2_labeller=pd.merge(df, df2_42, on=['stop_name', 'machine_name'])\n",
    "# df2_labeller\n",
    "\n",
    "total_labeller = df2_labeller['start_time'].count() "
   ]
  },
  {
   "cell_type": "code",
   "execution_count": 201,
   "metadata": {
    "scrolled": true
   },
   "outputs": [],
   "source": [
    "file2_5 = glob.glob('palletiser.csv')\n",
    "df2_51 = [pd.read_csv(fp, index_col = ['stop_name']) for fp in file2_5]\n",
    "\n",
    "df2_52 = pd.concat(df2_51)\n",
    "df2_52['machine_name'] = 'palletiser'\n",
    "# df2_52\n",
    "\n",
    "df2_palletiser=pd.merge(df, df2_52, on=['stop_name', 'machine_name'])\n",
    "# df2_palletiser\n",
    "\n",
    "total_palletiser = df2_palletiser['start_time'].count() "
   ]
  },
  {
   "cell_type": "code",
   "execution_count": 202,
   "metadata": {
    "scrolled": true
   },
   "outputs": [],
   "source": [
    "file2_6 = glob.glob('vertilator.csv')\n",
    "df2_61 = [pd.read_csv(fp, index_col = ['stop_name']) for fp in file2_6]\n",
    "\n",
    "df2_62 = pd.concat(df2_61)\n",
    "df2_62['machine_name'] = 'vertilator'\n",
    "# df2_62\n",
    "\n",
    "df2_vertilator=pd.merge(df, df2_62, on=['stop_name', 'machine_name'])\n",
    "# df2_vertilator\n",
    "\n",
    "total_vertilator = df2_vertilator['start_time'].count() "
   ]
  },
  {
   "cell_type": "code",
   "execution_count": 203,
   "metadata": {
    "scrolled": true
   },
   "outputs": [],
   "source": [
    "file2_7 = glob.glob('case_sealer.csv')\n",
    "df2_71 = [pd.read_csv(fp, index_col = ['stop_name']) for fp in file2_7]\n",
    "\n",
    "df2_72 = pd.concat(df2_71)\n",
    "df2_72['machine_name'] = 'case_sealer'\n",
    "# df2_72\n",
    "\n",
    "df2_case_sealer=pd.merge(df, df2_72, on=['stop_name', 'machine_name'])\n",
    "# df2_case_sealer\n",
    "\n",
    "total_case_sealer = df2_case_sealer['start_time'].count() "
   ]
  },
  {
   "cell_type": "code",
   "execution_count": 204,
   "metadata": {},
   "outputs": [],
   "source": [
    "file2_8 = glob.glob('induction.csv')\n",
    "df2_81 = [pd.read_csv(fp, index_col = ['stop_name']) for fp in file2_8]\n",
    "\n",
    "df2_82 = pd.concat(df2_81)\n",
    "df2_82['machine_name'] = 'induction'\n",
    "# df2_82\n",
    "\n",
    "df2_induction=pd.merge(df, df2_82, on=['stop_name', 'machine_name'])\n",
    "# df2_induction\n",
    "\n",
    "total_induction = df2_induction['start_time'].count() "
   ]
  },
  {
   "cell_type": "code",
   "execution_count": 205,
   "metadata": {
    "scrolled": true
   },
   "outputs": [],
   "source": [
    "# Concatenating all the dataframes mapped differently\n",
    "\n",
    "df2 = pd.concat([df2_case_erector, df2_case_packer, df2_case_sealer, df2_filler, df2_induction, df2_labeller, df2_palletiser, df2_vertilator], axis=0)"
   ]
  },
  {
   "cell_type": "code",
   "execution_count": 206,
   "metadata": {},
   "outputs": [],
   "source": [
    "# Reflecting the concatenated values to the csv file\n",
    "\n",
    "df2.to_csv(file_name+'-3_mapped_faults.csv', index=False)"
   ]
  },
  {
   "cell_type": "markdown",
   "metadata": {},
   "source": [
    "###### Creating file with only fault values excluding the fault type such as ready, pdt, running, waiting, etc."
   ]
  },
  {
   "cell_type": "code",
   "execution_count": 207,
   "metadata": {},
   "outputs": [],
   "source": [
    "df2_3 = pd.read_csv(file_name+'-3_mapped_faults.csv')\n",
    "# df2_3"
   ]
  },
  {
   "cell_type": "code",
   "execution_count": 208,
   "metadata": {},
   "outputs": [],
   "source": [
    "# other_stop_types = ['pdt', 'running', 'waiting', 'manual_stop', 'blocked', 'ready']"
   ]
  },
  {
   "cell_type": "code",
   "execution_count": 209,
   "metadata": {},
   "outputs": [],
   "source": [
    "df2_41 = df2_3[df2_3.stop_name != 'pdt']\n",
    "# df2_41"
   ]
  },
  {
   "cell_type": "code",
   "execution_count": 210,
   "metadata": {},
   "outputs": [],
   "source": [
    "df2_42 = df2_41[df2_41.stop_name != 'running']\n",
    "# df2_42"
   ]
  },
  {
   "cell_type": "code",
   "execution_count": 211,
   "metadata": {},
   "outputs": [],
   "source": [
    "df2_43 = df2_42[df2_42.stop_name != 'waiting']"
   ]
  },
  {
   "cell_type": "code",
   "execution_count": 212,
   "metadata": {},
   "outputs": [],
   "source": [
    "df2_44 = df2_43[df2_43.stop_name != 'manual_stop']"
   ]
  },
  {
   "cell_type": "code",
   "execution_count": 213,
   "metadata": {},
   "outputs": [],
   "source": [
    "df2_45 = df2_44[df2_44.stop_name != 'blocked']"
   ]
  },
  {
   "cell_type": "code",
   "execution_count": 214,
   "metadata": {
    "scrolled": true
   },
   "outputs": [],
   "source": [
    "df2_46 = df2_45[df2_45.stop_name != 'ready']\n",
    "# df2_46"
   ]
  },
  {
   "cell_type": "code",
   "execution_count": 215,
   "metadata": {},
   "outputs": [],
   "source": [
    "# contains all the values in file only for faults\n",
    "df2_46.to_csv(file_name+'-3_only_faults.csv', index=False)"
   ]
  },
  {
   "cell_type": "markdown",
   "metadata": {},
   "source": [
    "###### Appending difference of TIMESTAMP COLUMNS TO CSV FILE"
   ]
  },
  {
   "cell_type": "code",
   "execution_count": 216,
   "metadata": {},
   "outputs": [],
   "source": [
    "# import pandas as pd\n",
    "csv_input = pd.read_csv(file_name+'-3_mapped_faults.csv')\n",
    "\n",
    "end_time = list(csv_input['end_time'])\n",
    "start_time = list(csv_input['start_time'])"
   ]
  },
  {
   "cell_type": "code",
   "execution_count": 217,
   "metadata": {},
   "outputs": [],
   "source": [
    "# Calculating difference etween the end and start time\n",
    "\n",
    "import datetime\n",
    "from datetime import timedelta\n",
    " \n",
    "datetimeFormat = '%Y-%m-%d %H:%M:%S.%f'\n",
    "list3 = []\n",
    "for i in range(len(csv_input)):\n",
    "    date1 = end_time[i]\n",
    "    date2 = start_time[i]\n",
    "    diff = datetime.datetime.strptime(date1, datetimeFormat)\\\n",
    "        - datetime.datetime.strptime(date2, datetimeFormat)\n",
    "    \n",
    "    list3.append(diff)\n",
    "\n",
    "# list3"
   ]
  },
  {
   "cell_type": "code",
   "execution_count": 218,
   "metadata": {
    "scrolled": true
   },
   "outputs": [],
   "source": [
    "# storing diff in list\n",
    "\n",
    "import time \n",
    "from datetime import datetime\n",
    "\n",
    "  \n",
    "def convert(seconds): \n",
    "    return time.strftime(\"%H:%M:%S\", time.gmtime(seconds)) \n",
    "\n",
    "def convert_timedelta(duration):\n",
    "    return duration.seconds\n",
    "\n",
    "list3_1=[]\n",
    "for i in list3:\n",
    "    seconds = convert_timedelta(i)\n",
    "    # Driver program \n",
    "    list3_1.append( convert(int(seconds)) )\n",
    "\n",
    "# list3_1"
   ]
  },
  {
   "cell_type": "code",
   "execution_count": 219,
   "metadata": {},
   "outputs": [],
   "source": [
    "# reflecting diff to the main csv file\n",
    "\n",
    "# all faults\n",
    "df4 = pd.read_csv(file_name+'-3_mapped_faults.csv')\n",
    "\n",
    "df4_1 = pd.DataFrame(list3_1,columns = ['time_diff'])\n",
    "df4['time_diff']  = df4_1\n",
    "\n",
    "df4.to_csv(file_name+'-4_time_diff.csv', index=False)"
   ]
  },
  {
   "cell_type": "markdown",
   "metadata": {},
   "source": [
    "###### Creating Frequency Count File\n"
   ]
  },
  {
   "cell_type": "code",
   "execution_count": 220,
   "metadata": {},
   "outputs": [],
   "source": [
    "# Frequency Count in a dataframe\n",
    "\n",
    "df5 = pd.read_csv(file_name+'-4_time_diff.csv')\n",
    "\n",
    "df5_1 = pd.DataFrame({'fault_frequency' : df5.groupby(['machine_name', 'fault_name'])['time_diff'].count()}).reset_index()\n",
    "# df5_1"
   ]
  },
  {
   "cell_type": "code",
   "execution_count": 221,
   "metadata": {},
   "outputs": [],
   "source": [
    "# contains frequency of all types of stops\n",
    "df5_1.to_csv(file_name+'-5_fault_frequency.csv', index=False)"
   ]
  },
  {
   "cell_type": "markdown",
   "metadata": {},
   "source": [
    "###### Plot fault frequency for all the types of faults such as pdt,ready,faults,etc."
   ]
  },
  {
   "cell_type": "code",
   "execution_count": 222,
   "metadata": {},
   "outputs": [
    {
     "data": {
      "text/plain": [
       "<matplotlib.axes._subplots.AxesSubplot at 0x27721153f28>"
      ]
     },
     "execution_count": 222,
     "metadata": {},
     "output_type": "execute_result"
    },
    {
     "data": {
      "image/png": "[encoded data removed]",
      "text/plain": [
       "<Figure size 1440x360 with 1 Axes>"
      ]
     },
     "metadata": {},
     "output_type": "display_data"
    }
   ],
   "source": [
    "df5_1.plot(figsize = (20,5))"
   ]
  },
  {
   "cell_type": "code",
   "execution_count": 223,
   "metadata": {},
   "outputs": [],
   "source": [
    "df5_2 = df5_1[df5_1.fault_name != 'pdt']"
   ]
  },
  {
   "cell_type": "code",
   "execution_count": 224,
   "metadata": {},
   "outputs": [],
   "source": [
    "df5_2 = df5_2[df5_2.fault_name != 'waiting']"
   ]
  },
  {
   "cell_type": "code",
   "execution_count": 225,
   "metadata": {},
   "outputs": [],
   "source": [
    "df5_2 = df5_2[df5_2.fault_name != 'ready']"
   ]
  },
  {
   "cell_type": "code",
   "execution_count": 226,
   "metadata": {},
   "outputs": [],
   "source": [
    "df5_2 = df5_2[df5_2.fault_name != 'blocked']"
   ]
  },
  {
   "cell_type": "code",
   "execution_count": 227,
   "metadata": {},
   "outputs": [],
   "source": [
    "df5_2 = df5_2[df5_2.fault_name != 'manual_stop']"
   ]
  },
  {
   "cell_type": "code",
   "execution_count": 228,
   "metadata": {},
   "outputs": [],
   "source": [
    "# contains frequency only for faults\n",
    "df5_2.to_csv(file_name+'-5_fault_frequency_only_faults.csv', index=False)"
   ]
  },
  {
   "cell_type": "markdown",
   "metadata": {},
   "source": [
    "###### Plot fault frequency only for faults "
   ]
  },
  {
   "cell_type": "code",
   "execution_count": 229,
   "metadata": {},
   "outputs": [
    {
     "data": {
      "text/plain": [
       "<matplotlib.axes._subplots.AxesSubplot at 0x2771fb674e0>"
      ]
     },
     "execution_count": 229,
     "metadata": {},
     "output_type": "execute_result"
    },
    {
     "data": {
      "image/png": "[encoded data removed]",
      "text/plain": [
       "<Figure size 1440x360 with 1 Axes>"
      ]
     },
     "metadata": {},
     "output_type": "display_data"
    }
   ],
   "source": [
    "df5_2.plot(figsize = (20,5))"
   ]
  },
  {
   "cell_type": "code",
   "execution_count": 230,
   "metadata": {},
   "outputs": [
    {
     "data": {
      "image/png": "[encoded data removed]",
      "text/plain": [
       "<Figure size 432x288 with 1 Axes>"
      ]
     },
     "metadata": {},
     "output_type": "display_data"
    }
   ],
   "source": [
    "# fault values per faults\n",
    "\n",
    "import matplotlib.pyplot as plt\n",
    "\n",
    "plt.plot(df5_2['fault_name'],df5_2['fault_frequency'], color = 'y')\n",
    "\n",
    "plt.title('Fault Type VS Fault Frequency')\n",
    "plt.xlabel('Fault Type')\n",
    "plt.ylabel('Fault Frequency')\n",
    "plt.xticks(rotation=90)\n",
    "plt.show()"
   ]
  },
  {
   "cell_type": "code",
   "execution_count": 231,
   "metadata": {
    "scrolled": true
   },
   "outputs": [
    {
     "data": {
      "image/png": "[encoded data removed]",
      "text/plain": [
       "<Figure size 432x288 with 1 Axes>"
      ]
     },
     "metadata": {},
     "output_type": "display_data"
    }
   ],
   "source": [
    "# fault values per machine\n",
    "\n",
    "import matplotlib.pyplot as plt\n",
    "\n",
    "plt.bar(df5_2['machine_name'],df5_2['fault_frequency'], color = 'r')\n",
    "\n",
    "plt.title('Machine_name VS Fault_frequency')\n",
    "plt.xlabel('Machine_name')\n",
    "plt.ylabel('Fault_frequency')\n",
    "plt.xticks(rotation=90)\n",
    "plt.show()"
   ]
  },
  {
   "cell_type": "markdown",
   "metadata": {},
   "source": [
    "###### Remove Lunch Time Values from the file"
   ]
  },
  {
   "cell_type": "code",
   "execution_count": 233,
   "metadata": {},
   "outputs": [],
   "source": [
    "# lunch time\n",
    "# 12:50:00  2:30:00"
   ]
  },
  {
   "cell_type": "code",
   "execution_count": 235,
   "metadata": {},
   "outputs": [],
   "source": [
    "df6_1 = df5.start_time"
   ]
  },
  {
   "cell_type": "code",
   "execution_count": 236,
   "metadata": {},
   "outputs": [
    {
     "name": "stdout",
     "output_type": "stream",
     "text": [
      "Enter Lunch start time in 24 hrs format: 12:50\n"
     ]
    }
   ],
   "source": [
    "st_time = input('Enter Lunch start time in 24 hrs format: ')"
   ]
  },
  {
   "cell_type": "code",
   "execution_count": 237,
   "metadata": {},
   "outputs": [],
   "source": [
    "st_ti = st_time.split(':')\n",
    "st_hr = st_ti[0]\n",
    "st_min = st_ti[1]"
   ]
  },
  {
   "cell_type": "code",
   "execution_count": 238,
   "metadata": {},
   "outputs": [
    {
     "name": "stdout",
     "output_type": "stream",
     "text": [
      "Enter Lunch end time in 24 hrs format: 14:30\n"
     ]
    }
   ],
   "source": [
    "ed_time = input('Enter Lunch end time in 24 hrs format: ')"
   ]
  },
  {
   "cell_type": "code",
   "execution_count": 239,
   "metadata": {},
   "outputs": [],
   "source": [
    "ed_ti = ed_time.split(':')\n",
    "ed_hr = ed_ti [0]\n",
    "ed_min = ed_ti [1]"
   ]
  },
  {
   "cell_type": "code",
   "execution_count": 240,
   "metadata": {},
   "outputs": [
    {
     "name": "stdout",
     "output_type": "stream",
     "text": [
      "2020-02-25 04:30:00\n",
      "2020-02-25 07:17:36.092000\n",
      "2020-02-25 08:30:01.664000\n",
      "2020-02-25 10:13:52.568000\n",
      "2020-02-25 12:09:43.690000\n",
      "2020-02-25 13:20:59.189000\n",
      "2020-02-25 13:26:44.219000\n",
      "2020-02-25 13:28:54.235000\n",
      "2020-03-11 08:30:03.004000\n",
      "2020-02-25 07:15:11.056000\n",
      "2020-02-25 12:07:48.672000\n",
      "2020-02-25 13:26:24.218000\n",
      "2020-02-25 07:30:01.156000\n",
      "2020-02-25 09:42:52.330000\n",
      "2020-02-25 13:28:39.229000\n",
      "2020-02-25 13:20:54.184000\n",
      "2020-02-25 04:30:00\n",
      "2020-02-25 06:05:02.461000\n",
      "2020-02-25 06:05:34.468000\n",
      "2020-02-25 06:08:34.494000\n",
      "2020-02-25 06:08:46.496000\n",
      "2020-02-25 06:09:14.501000\n",
      "2020-02-25 06:09:26.501000\n",
      "2020-02-25 06:10:02.507000\n",
      "2020-02-25 06:10:38.515000\n",
      "2020-02-25 06:19:54.605000\n",
      "2020-02-25 06:20:38.614000\n",
      "2020-02-25 08:47:43.842000\n",
      "2020-02-25 08:52:31.879000\n",
      "2020-02-25 08:52:47.878000\n",
      "2020-02-25 08:53:11.896000\n",
      "2020-02-25 08:53:51.890000\n",
      "2020-02-25 08:55:55.904000\n",
      "2020-02-25 08:58:51.921000\n",
      "2020-02-25 09:01:19.937000\n",
      "2020-02-25 09:08:03.959000\n",
      "2020-02-25 09:09:35.967000\n",
      "2020-02-25 09:10:07.966000\n",
      "2020-02-25 09:10:27.962000\n",
      "2020-02-25 09:11:03.965000\n",
      "2020-02-25 09:12:55.984000\n",
      "2020-02-25 09:14:07.989000\n",
      "2020-02-25 09:19:32.061000\n",
      "2020-02-25 09:23:32.121000\n",
      "2020-02-25 09:25:28.140000\n",
      "2020-02-25 09:30:00\n",
      "2020-02-25 09:36:28.268000\n",
      "2020-02-25 09:38:28.293000\n",
      "2020-02-25 09:39:08.300000\n",
      "2020-02-25 09:39:40.302000\n",
      "2020-02-25 10:09:28.591000\n",
      "2020-02-25 10:10:04.594000\n",
      "2020-02-25 10:15:28.653000\n",
      "2020-02-25 10:49:52.994000\n",
      "2020-02-25 10:50:32.996000\n",
      "2020-02-25 10:51:09.076000\n",
      "2020-02-25 10:51:37.006000\n",
      "2020-02-25 10:53:05.017000\n",
      "2020-02-25 11:41:25.470000\n",
      "2020-02-25 12:13:13.941000\n",
      "2020-02-25 12:14:01.952000\n",
      "2020-02-25 12:14:50.038000\n",
      "2020-02-25 12:15:17.966000\n",
      "2020-02-25 12:22:34.073000\n",
      "2020-02-25 12:27:46.153000\n",
      "2020-02-25 12:31:42.210000\n",
      "2020-02-25 12:38:34.320000\n",
      "2020-02-25 12:40:18.349000\n",
      "2020-02-25 12:41:06.361000\n",
      "2020-02-25 12:59:02.659000\n",
      "2020-02-25 13:17:58.936000\n",
      "2020-03-11 08:30:03.077000\n",
      "2020-02-25 06:19:35.048000\n",
      "2020-02-25 09:08:47.962000\n",
      "2020-02-25 09:36:08.263000\n",
      "2020-02-25 07:30:03.133000\n",
      "2020-02-25 08:30:03.704000\n",
      "2020-02-25 08:55:39.902000\n",
      "2020-02-25 09:23:20.113000\n",
      "2020-02-25 09:38:52.298000\n",
      "2020-02-25 10:09:40.595000\n",
      "2020-02-25 10:15:08.647000\n",
      "2020-02-25 10:50:52.996000\n",
      "2020-02-25 10:51:49.008000\n",
      "2020-02-25 12:40:06.344000\n",
      "2020-02-25 12:58:50.658000\n",
      "2020-02-25 09:36:44.270000\n",
      "2020-02-25 10:51:25.004000\n",
      "2020-02-25 04:30:00\n",
      "2020-02-25 04:40:16.731000\n",
      "2020-02-25 05:02:26.878000\n",
      "2020-02-25 05:09:47.915000\n",
      "2020-02-25 05:11:39.920000\n",
      "2020-02-25 05:21:06.996000\n",
      "2020-02-25 05:31:02.060000\n",
      "2020-02-25 05:32:05.070000\n",
      "2020-02-25 05:36:17.114000\n",
      "2020-02-25 05:45:16.163000\n",
      "2020-02-25 06:59:21.717000\n",
      "2020-02-25 08:54:10.493000\n",
      "2020-02-25 11:41:01.488000\n",
      "2020-02-25 11:41:15.496000\n",
      "2020-02-25 13:09:35.103000\n",
      "2020-03-11 08:30:04.070000\n",
      "2020-02-25 04:39:48.728000\n",
      "2020-02-25 05:02:12.870000\n",
      "2020-02-25 05:08:44.909000\n",
      "2020-02-25 05:11:32.913000\n",
      "2020-02-25 05:20:59.990000\n",
      "2020-02-25 05:28:35.038000\n",
      "2020-02-25 05:31:51.069000\n",
      "2020-02-25 05:32:33.078000\n",
      "2020-02-25 05:43:38.156000\n",
      "2020-02-25 06:58:53.713000\n",
      "2020-02-25 08:30:01.362000\n",
      "2020-02-25 11:40:54.493000\n",
      "2020-02-25 11:41:08.492000\n",
      "2020-02-25 13:08:32.103000\n",
      "2020-02-25 07:30:02.920000\n",
      "2020-02-25 04:30:00\n",
      "2020-02-25 04:46:54.134000\n",
      "2020-02-25 04:49:50.199000\n",
      "2020-02-25 04:52:00.253000\n",
      "2020-02-25 05:06:20.660000\n",
      "2020-02-25 05:11:42.824000\n",
      "2020-02-25 05:15:14.948000\n",
      "2020-02-25 05:28:39.323000\n",
      "2020-02-25 05:32:03.436000\n",
      "2020-02-25 05:38:23.609000\n",
      "2020-02-25 05:41:11.704000\n",
      "2020-02-25 05:46:05.891000\n",
      "2020-02-25 05:52:26.141000\n",
      "2020-02-25 06:01:52.434000\n",
      "2020-02-25 06:05:18.504000\n",
      "2020-02-25 06:19:02.822000\n",
      "2020-02-25 06:56:11.850000\n",
      "2020-02-25 06:59:57.961000\n",
      "2020-02-25 07:10:46.283000\n",
      "2020-02-25 08:45:19.033000\n",
      "2020-02-25 08:48:31.139000\n",
      "2020-02-25 08:54:33.373000\n",
      "2020-02-25 08:57:23.469000\n",
      "2020-02-25 08:58:27.499000\n",
      "2020-02-25 08:58:45.513000\n",
      "2020-02-25 09:10:29.856000\n",
      "2020-02-25 09:12:57.935000\n",
      "2020-02-25 09:30:00\n",
      "2020-02-25 09:36:18.442000\n",
      "2020-02-25 09:47:00.696000\n",
      "2020-02-25 10:11:15.236000\n",
      "2020-02-25 10:14:57.321000\n",
      "2020-02-25 10:38:05.959000\n",
      "2020-02-25 10:38:13.919000\n",
      "2020-02-25 10:45:02.136000\n",
      "2020-02-25 10:45:28.222000\n",
      "2020-02-25 10:46:16.241000\n",
      "2020-02-25 10:47:02.184000\n",
      "2020-02-25 10:47:28.269000\n",
      "2020-02-25 10:48:18.212000\n",
      "2020-02-25 10:48:58.299000\n",
      "2020-02-25 10:49:26.231000\n",
      "2020-02-25 10:50:04.322000\n",
      "2020-02-25 10:50:24.252000\n",
      "2020-02-25 10:50:38.253000\n",
      "2020-02-25 10:51:12.345000\n",
      "2020-02-25 10:51:42.288000\n",
      "2020-02-25 10:52:20.304000\n",
      "2020-02-25 10:52:46.312000\n",
      "2020-02-25 10:53:24.407000\n",
      "2020-02-25 10:53:48.341000\n",
      "2020-02-25 10:54:24.350000\n",
      "2020-02-25 10:54:50.366000\n",
      "2020-02-25 10:55:46.392000\n",
      "2020-02-25 10:56:18.393000\n",
      "2020-02-25 10:56:58.411000\n",
      "2020-02-25 11:00:40.513000\n",
      "2020-02-25 11:20:37.134000\n",
      "2020-02-25 11:37:23.513000\n",
      "2020-02-25 11:40:45.582000\n",
      "2020-02-25 11:41:25.593000\n",
      "2020-02-25 11:59:15.986000\n",
      "2020-02-25 12:18:18.523000\n",
      "2020-02-25 12:20:22.593000\n",
      "2020-02-25 12:21:48.643000\n",
      "2020-02-25 12:24:12.719000\n",
      "2020-02-25 12:27:24.797000\n",
      "2020-02-25 12:35:26.929000\n",
      "2020-02-25 12:57:31.359000\n",
      "2020-02-25 13:05:29.522000\n",
      "2020-02-25 13:05:59.526000\n",
      "2020-02-25 13:10:53.646000\n",
      "2020-02-25 13:18:17.838000\n",
      "2020-02-25 13:19:57.878000\n",
      "2020-03-11 08:30:00.500000\n",
      "2020-02-25 04:46:18.130000\n",
      "2020-02-25 04:48:48.185000\n",
      "2020-02-25 04:51:44.252000\n",
      "2020-02-25 05:06:09.062000\n",
      "2020-02-25 05:08:10.731000\n",
      "2020-02-25 05:14:02.908000\n",
      "2020-02-25 05:27:59.309000\n",
      "2020-02-25 05:31:21.418000\n",
      "2020-02-25 05:33:53.506000\n",
      "2020-02-25 05:40:11.694000\n",
      "2020-02-25 05:44:45.864000\n",
      "2020-02-25 05:51:24.126000\n",
      "2020-02-25 06:13:22.697000\n",
      "2020-02-25 06:56:05.855000\n",
      "2020-02-25 06:59:37.962000\n",
      "2020-02-25 07:10:26.283000\n",
      "2020-02-25 10:59:08.551000\n",
      "2020-02-25 11:19:29.098000\n",
      "2020-02-25 11:25:39.348000\n",
      "2020-02-25 11:40:39.589000\n",
      "2020-02-25 11:40:57.594000\n",
      "2020-02-25 11:58:31.979000\n",
      "2020-02-25 12:57:25.362000\n",
      "2020-02-25 13:05:21.523000\n",
      "2020-02-25 13:05:53.529000\n",
      "2020-02-25 13:09:13.613000\n",
      "2020-02-25 13:17:07.813000\n",
      "2020-02-25 13:18:45.852000\n",
      "2020-02-25 06:00:06.388000\n",
      "2020-02-25 08:47:53.118000\n",
      "2020-02-25 06:02:58.460000\n",
      "2020-02-25 06:05:16.504000\n",
      "2020-02-25 07:25:40.837000\n",
      "2020-02-25 08:30:00.551000\n",
      "2020-02-25 09:06:39.742000\n",
      "2020-02-25 09:23:46.180000\n",
      "2020-02-25 09:31:02.331000\n",
      "2020-02-25 09:46:50.689000\n",
      "2020-02-25 13:09:25.612000\n",
      "2020-02-25 06:03:14.465000\n",
      "2020-02-25 09:12:39.923000\n",
      "2020-02-25 07:30:00.993000\n",
      "2020-02-25 08:56:59.455000\n",
      "2020-02-25 08:58:35.509000\n",
      "2020-02-25 08:58:17.499000\n",
      "2020-02-25 04:30:00\n",
      "2020-02-25 08:30:01.353000\n",
      "2020-03-11 08:30:04.064000\n",
      "2020-02-25 07:30:02.899000\n",
      "2020-02-25 04:30:00\n",
      "2020-02-25 04:31:04.576000\n",
      "2020-02-25 04:31:34.577000\n",
      "2020-02-25 04:32:24.586000\n",
      "2020-02-25 04:34:24.613000\n",
      "2020-02-25 04:37:49.651000\n",
      "2020-02-25 04:38:39.665000\n",
      "2020-02-25 04:39:04.670000\n",
      "2020-02-25 04:42:09.704000\n",
      "2020-02-25 04:43:29.719000\n",
      "2020-02-25 04:44:09.723000\n",
      "2020-02-25 04:44:34.729000\n",
      "2020-02-25 04:44:59.731000\n",
      "2020-02-25 04:47:19.755000\n",
      "2020-02-25 04:50:09.781000\n",
      "2020-02-25 04:52:09.796000\n",
      "2020-02-25 04:52:29.808000\n",
      "2020-02-25 04:53:24.813000\n",
      "2020-02-25 04:53:34.831000\n",
      "2020-02-25 04:54:04.825000\n",
      "2020-02-25 04:54:19.825000\n",
      "2020-02-25 04:55:09.832000\n",
      "2020-02-25 04:55:39.838000\n",
      "2020-02-25 04:55:49.842000\n",
      "2020-02-25 04:57:04.857000\n",
      "2020-02-25 04:57:39.861000\n",
      "2020-02-25 04:57:49.862000\n",
      "2020-02-25 04:58:49.862000\n",
      "2020-02-25 05:00:19.881000\n",
      "2020-02-25 05:00:44.886000\n",
      "2020-02-25 05:01:09.891000\n",
      "2020-02-25 05:01:34.897000\n",
      "2020-02-25 05:02:09.890000\n",
      "2020-02-25 05:02:59.898000\n",
      "2020-02-25 05:03:34.896000\n",
      "2020-02-25 05:04:44.906000\n",
      "2020-02-25 05:04:54.910000\n",
      "2020-02-25 05:06:24.918000\n",
      "2020-02-25 05:06:54.926000\n",
      "2020-02-25 05:11:34.956000\n",
      "2020-02-25 05:11:44.953000\n",
      "2020-02-25 05:12:39.962000\n",
      "2020-02-25 05:12:54.967000\n",
      "2020-02-25 05:13:04.966000\n",
      "2020-02-25 05:17:25.004000\n",
      "2020-02-25 05:18:55.014000\n",
      "2020-02-25 05:19:10.023000\n",
      "2020-02-25 05:19:55.031000\n",
      "2020-02-25 05:20:15.033000\n",
      "2020-02-25 05:20:25.033000\n",
      "2020-02-25 05:21:20.047000\n",
      "2020-02-25 05:21:40.045000\n",
      "2020-02-25 05:21:50.049000\n",
      "2020-02-25 05:22:00.056000\n",
      "2020-02-25 05:22:20.057000\n",
      "2020-02-25 05:23:10.060000\n",
      "2020-02-25 05:28:55.110000\n",
      "2020-02-25 05:30:05.124000\n",
      "2020-02-25 05:30:15.127000\n",
      "2020-02-25 05:32:20.146000\n",
      "2020-02-25 05:38:45.218000\n",
      "2020-02-25 05:39:00.209000\n",
      "2020-02-25 05:40:20.229000\n",
      "2020-02-25 05:43:50.278000\n",
      "2020-02-25 05:46:20.293000\n",
      "2020-02-25 05:46:30.280000\n",
      "2020-02-25 05:48:05.307000\n",
      "2020-02-25 05:49:05.305000\n",
      "2020-02-25 05:49:55.307000\n",
      "2020-02-25 05:51:05.325000\n",
      "2020-02-25 06:00:25.384000\n",
      "2020-02-25 06:01:15.386000\n",
      "2020-02-25 06:04:45.433000\n",
      "2020-02-25 06:07:55.467000\n",
      "2020-02-25 06:08:05.464000\n",
      "2020-02-25 06:08:25.469000\n",
      "2020-02-25 06:12:00.509000\n",
      "2020-02-25 06:12:15.516000\n",
      "2020-02-25 06:19:05.579000\n",
      "2020-02-25 06:20:05.585000\n",
      "2020-02-25 06:20:50.599000\n",
      "2020-02-25 06:21:55.613000\n",
      "2020-02-25 06:23:50.633000\n",
      "2020-02-25 06:25:30.649000\n",
      "2020-02-25 06:32:35.709000\n",
      "2020-02-25 06:35:05.729000\n",
      "2020-02-25 06:35:20.730000\n",
      "2020-02-25 06:35:55.741000\n",
      "2020-02-25 06:36:30.749000\n",
      "2020-02-25 06:36:40.746000\n",
      "2020-02-25 06:39:40.781000\n",
      "2020-02-25 06:42:10.793000\n",
      "2020-02-25 06:42:40.801000\n",
      "2020-02-25 06:44:25.801000\n",
      "2020-02-25 06:45:10.806000\n",
      "2020-02-25 06:50:55.844000\n",
      "2020-02-25 06:52:15.854000\n",
      "2020-02-25 06:54:20.873000\n",
      "2020-02-25 06:55:50.881000\n",
      "2020-02-25 06:56:10.884000\n",
      "2020-02-25 06:56:25.880000\n",
      "2020-02-25 06:57:15.901000\n",
      "2020-02-25 06:58:15.898000\n",
      "2020-02-25 06:59:50.917000\n",
      "2020-02-25 07:00:05.924000\n",
      "2020-02-25 07:00:20.923000\n",
      "2020-02-25 07:00:40.925000\n",
      "2020-02-25 07:01:40.934000\n",
      "2020-02-25 07:02:15.940000\n",
      "2020-02-25 07:03:25.957000\n",
      "2020-02-25 07:04:35.963000\n",
      "2020-02-25 07:06:45.983000\n",
      "2020-02-25 07:12:46.044000\n",
      "2020-02-25 07:15:31.073000\n",
      "2020-02-25 07:16:51.084000\n",
      "2020-02-25 07:22:56.113000\n",
      "2020-02-25 07:23:36.130000\n",
      "2020-02-25 07:24:26.126000\n",
      "2020-02-25 07:25:16.127000\n",
      "2020-02-25 07:25:31.135000\n",
      "2020-02-25 08:51:41.869000\n",
      "2020-02-25 08:53:11.882000\n",
      "2020-02-25 08:53:36.877000\n",
      "2020-02-25 08:54:01.887000\n",
      "2020-02-25 08:55:11.895000\n",
      "2020-02-25 08:57:06.914000\n",
      "2020-02-25 08:57:46.915000\n",
      "2020-02-25 08:58:01.923000\n",
      "2020-02-25 09:15:37.041000\n",
      "2020-02-25 09:24:27.127000\n",
      "2020-02-25 10:49:47.968000\n",
      "2020-02-25 10:56:47.948000\n",
      "2020-02-25 10:57:07.956000\n",
      "2020-02-25 11:00:37.990000\n",
      "2020-02-25 11:02:58.008000\n",
      "2020-02-25 11:03:38.015000\n",
      "2020-02-25 11:04:18.093000\n",
      "2020-02-25 11:05:18.034000\n",
      "2020-02-25 11:06:28.114000\n",
      "2020-02-25 11:08:53.061000\n",
      "2020-02-25 11:10:13.151000\n",
      "2020-02-25 11:11:23.155000\n",
      "2020-02-25 11:12:28.087000\n",
      "2020-02-25 11:14:03.105000\n",
      "2020-02-25 11:14:58.109000\n",
      "2020-02-25 11:16:23.121000\n",
      "2020-02-25 11:17:08.199000\n",
      "2020-02-25 11:19:13.132000\n",
      "2020-02-25 11:22:18.238000\n",
      "2020-02-25 11:39:58.381000\n",
      "2020-02-25 11:41:38.399000\n",
      "2020-02-25 11:42:58.415000\n",
      "2020-02-25 11:44:03.431000\n",
      "2020-02-25 11:45:13.443000\n",
      "2020-02-25 11:46:13.455000\n",
      "2020-02-25 11:49:18.485000\n",
      "2020-02-25 11:50:33.497000\n",
      "2020-02-25 11:51:43.509000\n",
      "2020-02-25 11:52:08.514000\n",
      "2020-02-25 11:53:33.530000\n",
      "2020-02-25 11:54:03.535000\n",
      "2020-02-25 11:55:48.558000\n",
      "2020-02-25 11:57:03.566000\n",
      "2020-02-25 11:57:33.574000\n",
      "2020-02-25 12:01:23.617000\n",
      "2020-02-25 12:02:08.629000\n",
      "2020-02-25 12:04:43.650000\n",
      "2020-02-25 12:05:18.664000\n",
      "2020-02-25 12:05:38.656000\n",
      "2020-02-25 12:06:38.670000\n",
      "2020-02-25 12:16:13.765000\n",
      "2020-02-25 12:26:58.856000\n",
      "2020-02-25 12:27:08.934000\n",
      "2020-02-25 12:38:08.929000\n",
      "2020-02-25 12:50:49.084000\n",
      "2020-02-25 13:04:14.110000\n",
      "2020-02-25 13:05:14.114000\n",
      "2020-02-25 13:07:24.116000\n",
      "2020-02-25 13:08:44.129000\n",
      "2020-02-25 13:13:14.158000\n",
      "2020-02-25 13:14:04.169000\n",
      "2020-02-25 13:14:24.167000\n",
      "2020-02-25 13:15:29.172000\n",
      "2020-02-25 13:18:44.186000\n",
      "2020-02-25 13:18:54.190000\n",
      "2020-02-25 13:25:34.295000\n",
      "2020-02-25 13:26:39.230000\n",
      "2020-02-25 13:27:19.230000\n",
      "2020-02-25 13:28:34.228000\n",
      "2020-02-25 04:30:04.558000\n",
      "2020-02-25 04:31:09.569000\n",
      "2020-02-25 04:31:39.576000\n",
      "2020-02-25 04:32:29.584000\n",
      "2020-02-25 04:34:29.608000\n",
      "2020-02-25 04:37:54.648000\n",
      "2020-02-25 04:38:49.659000\n",
      "2020-02-25 04:39:09.660000\n",
      "2020-02-25 04:42:14.697000\n",
      "2020-02-25 04:43:34.707000\n",
      "2020-02-25 04:44:29.725000\n",
      "2020-02-25 04:44:39.719000\n",
      "2020-02-25 04:46:34.747000\n",
      "2020-02-25 04:47:29.752000\n",
      "2020-02-25 04:50:29.777000\n",
      "2020-02-25 04:52:14.801000\n",
      "2020-02-25 04:52:34.804000\n",
      "2020-02-25 04:53:29.815000\n",
      "2020-02-25 04:53:39.820000\n",
      "2020-02-25 04:54:14.821000\n",
      "2020-02-25 04:54:24.820000\n",
      "2020-02-25 04:55:14.833000\n",
      "2020-02-25 04:55:44.831000\n",
      "2020-02-25 04:56:09.840000\n",
      "2020-02-25 04:57:19.851000\n",
      "2020-02-25 04:57:44.847000\n",
      "2020-02-25 04:58:24.856000\n",
      "2020-02-25 04:59:14.865000\n",
      "2020-02-25 05:00:24.874000\n",
      "2020-02-25 05:00:49.884000\n",
      "2020-02-25 05:01:19.887000\n",
      "2020-02-25 05:01:39.889000\n",
      "2020-02-25 05:02:14.893000\n",
      "2020-02-25 05:03:04.894000\n",
      "2020-02-25 05:03:54.900000\n",
      "2020-02-25 05:04:49.903000\n",
      "2020-02-25 05:06:04.916000\n",
      "2020-02-25 05:06:44.915000\n",
      "2020-02-25 05:11:24.945000\n",
      "2020-02-25 05:11:39.952000\n",
      "2020-02-25 05:12:29.954000\n",
      "2020-02-25 05:12:44.951000\n",
      "2020-02-25 05:12:59.957000\n",
      "2020-02-25 05:13:44.967000\n",
      "2020-02-25 05:17:39.998000\n",
      "2020-02-25 05:19:00.008000\n",
      "2020-02-25 05:19:15.018000\n",
      "2020-02-25 05:20:00.029000\n",
      "2020-02-25 05:20:20.029000\n",
      "2020-02-25 05:20:30.029000\n",
      "2020-02-25 05:21:25.035000\n",
      "2020-02-25 05:21:45.043000\n",
      "2020-02-25 05:21:55.046000\n",
      "2020-02-25 05:22:05.046000\n",
      "2020-02-25 05:22:25.044000\n",
      "2020-02-25 05:23:25.057000\n",
      "2020-02-25 05:29:00.106000\n",
      "2020-02-25 05:30:10.121000\n",
      "2020-02-25 05:31:50.137000\n",
      "2020-02-25 05:32:25.147000\n",
      "2020-02-25 05:38:55.199000\n",
      "2020-02-25 05:40:15.210000\n",
      "2020-02-25 05:40:30.213000\n",
      "2020-02-25 05:45:45.273000\n",
      "2020-02-25 05:46:25.277000\n",
      "2020-02-25 05:47:00.280000\n",
      "2020-02-25 05:48:20.287000\n",
      "2020-02-25 05:49:20.297000\n",
      "2020-02-25 05:50:20.316000\n",
      "2020-02-25 05:51:10.308000\n",
      "2020-02-25 06:00:30.376000\n",
      "2020-02-25 06:01:20.385000\n",
      "2020-02-25 06:04:55.426000\n",
      "2020-02-25 06:08:00.462000\n",
      "2020-02-25 06:08:10.463000\n",
      "2020-02-25 06:08:30.462000\n",
      "2020-02-25 06:12:05.505000\n",
      "2020-02-25 06:12:30.511000\n",
      "2020-02-25 06:18:40.571000\n",
      "2020-02-25 06:19:20.571000\n",
      "2020-02-25 06:20:10.580000\n",
      "2020-02-25 06:20:55.592000\n",
      "2020-02-25 06:22:00.610000\n",
      "2020-02-25 06:23:55.629000\n",
      "2020-02-25 06:25:35.648000\n",
      "2020-02-25 06:32:40.699000\n",
      "2020-02-25 06:35:10.729000\n",
      "2020-02-25 06:35:40.730000\n",
      "2020-02-25 06:36:00.737000\n",
      "2020-02-25 06:36:35.741000\n",
      "2020-02-25 06:36:50.747000\n",
      "2020-02-25 06:39:45.779000\n",
      "2020-02-25 06:42:30.799000\n",
      "2020-02-25 06:42:45.787000\n",
      "2020-02-25 06:44:35.812000\n",
      "2020-02-25 06:45:30.807000\n",
      "2020-02-25 06:51:05.855000\n",
      "2020-02-25 06:52:20.865000\n",
      "2020-02-25 06:54:50.875000\n",
      "2020-02-25 06:55:55.877000\n",
      "2020-02-25 06:56:15.876000\n",
      "2020-02-25 06:56:55.889000\n",
      "2020-02-25 06:57:40.888000\n",
      "2020-02-25 06:59:40.912000\n",
      "2020-02-25 06:59:55.916000\n",
      "2020-02-25 07:00:15.920000\n",
      "2020-02-25 07:00:30.923000\n",
      "2020-02-25 07:01:30.926000\n",
      "2020-02-25 07:01:45.934000\n",
      "2020-02-25 07:02:45.944000\n",
      "2020-02-25 07:03:50.953000\n",
      "2020-02-25 07:04:50.958000\n",
      "2020-02-25 07:07:00.983000\n",
      "2020-02-25 07:12:51.029000\n",
      "2020-02-25 07:15:41.058000\n",
      "2020-02-25 07:17:19.122000\n",
      "2020-02-25 07:23:01.123000\n",
      "2020-02-25 07:23:41.130000\n",
      "2020-02-25 07:24:41.124000\n",
      "2020-02-25 07:25:26.124000\n",
      "2020-02-25 07:25:36.137000\n",
      "2020-02-25 08:30:01.669000\n",
      "2020-02-25 08:51:46.870000\n",
      "2020-02-25 08:53:16.877000\n",
      "2020-02-25 08:53:41.872000\n",
      "2020-02-25 08:54:06.884000\n",
      "2020-02-25 08:55:16.894000\n",
      "2020-02-25 08:57:11.909000\n",
      "2020-02-25 08:57:51.917000\n",
      "2020-02-25 08:58:06.914000\n",
      "2020-02-25 09:15:42.041000\n",
      "2020-02-25 09:24:32.125000\n",
      "2020-02-25 10:08:02.528000\n",
      "2020-02-25 10:49:52.961000\n",
      "2020-02-25 10:56:52.948000\n",
      "2020-02-25 10:57:13.026000\n",
      "2020-02-25 11:00:43.059000\n",
      "2020-02-25 11:03:03.002000\n",
      "2020-02-25 11:03:43.008000\n",
      "2020-02-25 11:04:38.095000\n",
      "2020-02-25 11:05:53.029000\n",
      "2020-02-25 11:06:33.033000\n",
      "2020-02-25 11:09:33.061000\n",
      "2020-02-25 11:10:18.141000\n",
      "2020-02-25 11:11:43.080000\n",
      "2020-02-25 11:12:43.163000\n",
      "2020-02-25 11:14:08.174000\n",
      "2020-02-25 11:15:33.181000\n",
      "2020-02-25 11:16:43.190000\n",
      "2020-02-25 11:17:13.117000\n",
      "2020-02-25 11:20:08.206000\n",
      "2020-02-25 11:22:23.159000\n",
      "2020-02-25 11:40:53.381000\n",
      "2020-02-25 11:42:23.403000\n",
      "2020-02-25 11:43:03.413000\n",
      "2020-02-25 11:44:08.421000\n",
      "2020-02-25 11:45:18.434000\n",
      "2020-02-25 11:46:18.449000\n",
      "2020-02-25 11:49:53.485000\n",
      "2020-02-25 11:50:58.492000\n",
      "2020-02-25 11:52:03.505000\n",
      "2020-02-25 11:52:13.512000\n",
      "2020-02-25 11:53:38.527000\n",
      "2020-02-25 11:54:08.528000\n",
      "2020-02-25 11:56:23.552000\n",
      "2020-02-25 11:57:23.564000\n",
      "2020-02-25 11:58:58.581000\n",
      "2020-02-25 12:01:28.619000\n",
      "2020-02-25 12:02:13.623000\n",
      "2020-02-25 12:04:48.650000\n",
      "2020-02-25 12:05:23.659000\n",
      "2020-02-25 12:05:43.654000\n",
      "2020-02-25 12:06:43.669000\n",
      "2020-02-25 12:16:18.759000\n",
      "2020-02-25 12:27:03.854000\n",
      "2020-02-25 12:27:13.928000\n",
      "2020-02-25 12:38:13.931000\n",
      "2020-02-25 12:50:54.006000\n",
      "2020-02-25 13:04:19.101000\n",
      "2020-02-25 13:05:19.108000\n",
      "2020-02-25 13:07:29.117000\n",
      "2020-02-25 13:10:14.133000\n",
      "2020-02-25 13:13:29.152000\n",
      "2020-02-25 13:14:14.160000\n",
      "2020-02-25 13:14:49.163000\n",
      "2020-02-25 13:18:04.181000\n",
      "2020-02-25 13:18:49.179000\n",
      "2020-02-25 13:19:04.185000\n",
      "2020-02-25 13:25:39.290000\n",
      "2020-02-25 13:26:44.223000\n",
      "2020-02-25 13:27:24.221000\n",
      "2020-02-25 13:28:39.225000\n",
      "2020-03-11 08:30:03.010000\n",
      "2020-02-25 06:18:35.569000\n",
      "2020-02-25 07:30:01.183000\n",
      "2020-02-25 10:04:37.505000\n",
      "2020-02-25 04:30:00\n",
      "2020-02-25 04:41:26.743000\n",
      "2020-02-25 04:45:31.771000\n",
      "2020-02-25 04:55:12.829000\n",
      "2020-02-25 05:11:53.919000\n",
      "2020-02-25 05:17:22.961000\n",
      "2020-02-25 05:25:05.018000\n",
      "2020-02-25 05:33:01.085000\n",
      "2020-02-25 05:34:32.087000\n",
      "2020-02-25 05:38:23.111000\n",
      "2020-02-25 05:40:43.127000\n",
      "2020-02-25 05:47:22.162000\n",
      "2020-02-25 05:59:37.245000\n",
      "2020-02-25 06:08:01.332000\n",
      "2020-02-25 06:10:49.348000\n",
      "2020-02-25 06:22:57.446000\n",
      "2020-02-25 06:26:27.477000\n",
      "2020-02-25 06:34:44.548000\n",
      "2020-02-25 06:51:25.650000\n",
      "2020-02-25 06:59:49.718000\n",
      "2020-02-25 07:09:02.781000\n",
      "2020-02-25 07:17:21.924000\n",
      "2020-02-25 07:25:50.870000\n",
      "2020-02-25 08:56:02.496000\n",
      "2020-02-25 09:03:37.543000\n",
      "2020-02-25 09:10:16.595000\n",
      "2020-02-25 09:12:01.612000\n",
      "2020-02-25 09:21:49.693000\n",
      "2020-02-25 09:26:01.730000\n",
      "2020-02-25 09:27:46.735000\n",
      "2020-02-25 09:30:02\n",
      "2020-02-25 09:37:27.805000\n",
      "2020-02-25 09:41:32.818000\n",
      "2020-02-25 09:45:30.855000\n",
      "2020-02-25 10:01:50.948000\n",
      "2020-02-25 10:07:26.976000\n",
      "2020-02-25 10:25:53.068000\n",
      "2020-02-25 10:52:08.258000\n",
      "2020-02-25 10:55:45.204000\n",
      "2020-02-25 11:01:07.251000\n",
      "2020-02-25 11:20:08.379000\n",
      "2020-02-25 11:39:02.474000\n",
      "2020-02-25 11:42:18.499000\n",
      "2020-02-25 12:01:19.665000\n",
      "2020-02-25 12:27:20.833000\n",
      "2020-02-25 12:30:01.856000\n",
      "2020-02-25 12:33:59.872000\n",
      "2020-02-25 12:40:31.925000\n",
      "2020-02-25 12:43:05.937000\n",
      "2020-02-25 12:46:42.966000\n",
      "2020-02-25 13:06:19.096000\n",
      "2020-02-25 13:14:22.135000\n",
      "2020-02-25 13:15:11.135000\n",
      "2020-02-25 13:27:40.196000\n",
      "2020-03-11 08:30:04.074000\n",
      "2020-02-25 04:41:19.748000\n",
      "2020-02-25 04:55:05.864000\n",
      "2020-02-25 05:17:15.954000\n",
      "2020-02-25 05:24:58.028000\n",
      "2020-02-25 05:40:36.132000\n",
      "2020-02-25 05:59:30.257000\n",
      "2020-02-25 06:07:54.331000\n",
      "2020-02-25 06:26:20.488000\n",
      "2020-02-25 06:34:37.552000\n",
      "2020-02-25 06:51:18.661000\n",
      "2020-02-25 06:59:42.724000\n",
      "2020-02-25 07:08:55.790000\n",
      "2020-02-25 07:17:19.886000\n",
      "2020-02-25 07:25:43.881000\n",
      "2020-02-25 10:09:39.996000\n",
      "2020-02-25 11:20:01.382000\n",
      "2020-02-25 12:01:12.663000\n",
      "2020-02-25 12:46:35.978000\n",
      "2020-02-25 13:06:12.103000\n",
      "2020-02-25 13:27:33.204000\n",
      "2020-02-25 04:44:28.756000\n",
      "2020-02-25 13:14:01.138000\n",
      "2020-02-25 13:14:50.139000\n",
      "2020-02-25 07:30:02.933000\n",
      "2020-02-25 04:30:00\n",
      "2020-02-25 04:31:05.567000\n",
      "2020-02-25 04:31:21.568000\n",
      "2020-02-25 04:34:49.620000\n",
      "2020-02-25 04:35:21.617000\n",
      "2020-02-25 04:36:33.626000\n",
      "2020-02-25 04:37:53.643000\n",
      "2020-02-25 04:39:37.658000\n",
      "2020-02-25 04:41:45.686000\n",
      "2020-02-25 04:42:33.695000\n",
      "2020-02-25 04:47:37.739000\n",
      "2020-02-25 04:49:13.750000\n",
      "2020-02-25 04:55:45.814000\n",
      "2020-02-25 04:56:17.813000\n",
      "2020-02-25 04:56:49.822000\n",
      "2020-02-25 04:57:05.827000\n",
      "2020-02-25 05:03:53.881000\n",
      "2020-02-25 05:05:37.891000\n",
      "2020-02-25 05:13:37.948000\n",
      "2020-02-25 05:14:57.955000\n",
      "2020-02-25 05:18:41.983000\n",
      "2020-02-25 05:20:17.993000\n",
      "2020-02-25 05:22:58.007000\n",
      "2020-02-25 05:23:46.013000\n",
      "2020-02-25 05:24:18.013000\n",
      "2020-02-25 05:24:50.017000\n",
      "2020-02-25 05:25:22.022000\n",
      "2020-02-25 05:26:42.022000\n",
      "2020-02-25 05:27:14.031000\n",
      "2020-02-25 05:28:02.036000\n",
      "2020-02-25 05:31:22.068000\n",
      "2020-02-25 05:37:54.117000\n",
      "2020-02-25 05:40:42.130000\n",
      "2020-02-25 05:41:22.117000\n",
      "2020-02-25 05:41:54.116000\n",
      "2020-02-25 05:42:26.131000\n",
      "2020-02-25 05:46:42.130000\n",
      "2020-02-25 05:51:06.139000\n",
      "2020-02-25 05:54:02.170000\n",
      "2020-02-25 05:55:46.175000\n",
      "2020-02-25 06:00:10.226000\n",
      "2020-02-25 06:00:42.230000\n",
      "2020-02-25 06:01:14.237000\n",
      "2020-02-25 06:03:54.265000\n",
      "2020-02-25 06:04:26.267000\n",
      "2020-02-25 06:05:54.288000\n",
      "2020-02-25 06:10:10.333000\n",
      "2020-02-25 06:10:50.339000\n",
      "2020-02-25 06:12:26.352000\n",
      "2020-02-25 06:21:54.456000\n",
      "2020-02-25 06:22:42.448000\n",
      "2020-02-25 06:23:54.459000\n",
      "2020-02-25 06:26:50.488000\n",
      "2020-02-25 06:29:30.513000\n",
      "2020-02-25 06:30:34.517000\n",
      "2020-02-25 06:31:54.528000\n",
      "2020-02-25 06:32:26.539000\n",
      "2020-02-25 06:33:14.545000\n",
      "2020-02-25 06:37:30.575000\n",
      "2020-02-25 06:38:18.583000\n",
      "2020-02-25 06:40:34.600000\n",
      "2020-02-25 06:42:10.613000\n",
      "2020-02-25 06:42:50.617000\n",
      "2020-02-25 06:43:22.619000\n",
      "2020-02-25 06:43:46.623000\n",
      "2020-02-25 06:44:10.640000\n",
      "2020-02-25 06:45:22.634000\n",
      "2020-02-25 06:46:58.661000\n",
      "2020-02-25 06:47:30.649000\n",
      "2020-02-25 06:49:22.661000\n",
      "2020-02-25 06:49:54.675000\n",
      "2020-02-25 06:54:10.705000\n",
      "2020-02-25 06:54:42.746000\n",
      "2020-02-25 06:56:10.703000\n",
      "2020-02-25 06:58:02.713000\n",
      "2020-02-25 06:58:50.716000\n",
      "2020-02-25 07:04:18.744000\n",
      "2020-02-25 07:05:30.754000\n",
      "2020-02-25 07:07:54.762000\n",
      "2020-02-25 07:14:50.786000\n",
      "2020-02-25 07:19:38.817000\n",
      "2020-02-25 07:21:54.822000\n",
      "2020-02-25 07:22:42.809000\n",
      "2020-02-25 07:25:14.815000\n",
      "2020-02-25 07:27:38.837000\n",
      "2020-02-25 07:29:06.856000\n",
      "2020-02-25 10:08:43.999000\n",
      "2020-02-25 10:14:20.032000\n",
      "2020-02-25 10:19:24.041000\n",
      "2020-02-25 10:51:24.174000\n",
      "2020-02-25 11:00:20.328000\n",
      "2020-02-25 11:01:16.336000\n",
      "2020-02-25 11:01:40.264000\n",
      "2020-02-25 11:05:08.365000\n",
      "2020-02-25 11:06:44.299000\n",
      "2020-02-25 11:07:48.313000\n",
      "2020-02-25 11:09:24.324000\n",
      "2020-02-25 11:09:48.321000\n",
      "2020-02-25 11:10:28.403000\n",
      "2020-02-25 11:11:00.335000\n",
      "2020-02-25 11:11:32.339000\n",
      "2020-02-25 11:11:56.342000\n",
      "2020-02-25 11:12:36.353000\n",
      "2020-02-25 11:13:08.431000\n",
      "2020-02-25 11:15:32.373000\n",
      "2020-02-25 11:15:48.367000\n",
      "2020-02-25 11:16:44.455000\n",
      "2020-02-25 11:17:56.387000\n",
      "2020-02-25 11:18:20.388000\n",
      "2020-02-25 11:21:32.486000\n",
      "2020-02-25 11:23:56.506000\n",
      "2020-02-25 11:25:48.439000\n",
      "2020-02-25 11:27:00.450000\n",
      "2020-02-25 11:41:08.533000\n",
      "2020-02-25 11:43:32.541000\n",
      "2020-02-25 11:44:20.545000\n",
      "2020-02-25 11:45:40.556000\n",
      "2020-02-25 11:49:40.570000\n",
      "2020-02-25 11:51:16.580000\n",
      "2020-02-25 11:51:56.582000\n",
      "2020-02-25 11:52:20.588000\n",
      "2020-02-25 11:57:40.608000\n",
      "2020-02-25 11:58:04.614000\n",
      "2020-02-25 11:59:40.614000\n",
      "2020-02-25 12:00:20.620000\n",
      "2020-02-25 12:00:44.623000\n",
      "2020-02-25 12:01:16.624000\n",
      "2020-02-25 12:01:40.628000\n",
      "2020-02-25 12:02:36.634000\n",
      "2020-02-25 12:04:04.635000\n",
      "2020-02-25 12:08:20.656000\n",
      "2020-02-25 12:10:04.660000\n",
      "2020-02-25 12:12:52.672000\n",
      "2020-02-25 12:15:40.679000\n",
      "2020-02-25 12:16:20.684000\n",
      "2020-02-25 12:16:44.761000\n",
      "2020-02-25 12:19:32.683000\n",
      "2020-02-25 12:42:36.908000\n",
      "2020-02-25 12:44:20.926000\n",
      "2020-02-25 12:45:24.942000\n",
      "2020-02-25 12:46:20.947000\n",
      "2020-02-25 12:46:44.956000\n",
      "2020-02-25 12:48:04.969000\n",
      "2020-02-25 12:50:53.075000\n",
      "2020-02-25 12:52:13.011000\n",
      "2020-02-25 12:52:53.093000\n",
      "2020-02-25 12:53:17.095000\n",
      "2020-02-25 13:00:05.076000\n",
      "2020-02-25 13:00:29.088000\n",
      "2020-02-25 13:01:09.088000\n",
      "2020-02-25 13:01:41.085000\n",
      "2020-02-25 13:04:13.102000\n",
      "2020-02-25 13:05:17.104000\n",
      "2020-02-25 13:05:41.116000\n",
      "2020-02-25 13:08:13.126000\n",
      "2020-02-25 13:10:45.142000\n",
      "2020-02-25 13:11:09.152000\n",
      "2020-02-25 13:19:33.206000\n",
      "2020-02-25 13:21:01.217000\n",
      "2020-02-25 13:21:17.220000\n",
      "2020-02-25 13:24:21.316000\n",
      "2020-02-25 13:24:45.316000\n",
      "2020-02-25 13:25:01.320000\n",
      "2020-02-25 13:26:37.328000\n",
      "2020-02-25 13:27:01.257000\n",
      "2020-02-25 13:28:45.265000\n",
      "2020-02-25 13:29:01.261000\n",
      "2020-02-25 04:30:01.553000\n",
      "2020-02-25 04:31:13.561000\n",
      "2020-02-25 04:31:29.575000\n",
      "2020-02-25 04:33:05.585000\n",
      "2020-02-25 04:34:57.610000\n",
      "2020-02-25 04:35:29.617000\n",
      "2020-02-25 04:36:41.628000\n",
      "2020-02-25 04:37:05.633000\n",
      "2020-02-25 04:37:37.638000\n",
      "2020-02-25 04:47:13.733000\n",
      "2020-02-25 04:56:09.807000\n",
      "2020-02-25 04:57:21.825000\n",
      "2020-02-25 04:58:01.831000\n",
      "2020-02-25 04:58:57.837000\n",
      "2020-02-25 04:59:45.841000\n",
      "2020-02-25 05:01:13.857000\n",
      "2020-02-25 05:02:58.159000\n",
      "2020-02-25 05:04:01.883000\n",
      "2020-02-25 05:04:57.884000\n",
      "2020-02-25 05:06:01.896000\n",
      "2020-02-25 05:10:25.924000\n",
      "2020-02-25 05:11:13.933000\n",
      "2020-02-25 05:12:09.937000\n",
      "2020-02-25 05:13:29.947000\n",
      "2020-02-25 05:13:45.946000\n",
      "2020-02-25 05:14:09.948000\n",
      "2020-02-25 05:14:41.953000\n",
      "2020-02-25 05:15:05.958000\n",
      "2020-02-25 05:15:29.960000\n",
      "2020-02-25 05:16:33.964000\n",
      "2020-02-25 05:17:21.968000\n",
      "2020-02-25 05:18:01.977000\n",
      "2020-02-25 05:18:49.983000\n",
      "2020-02-25 05:19:13.981000\n",
      "2020-02-25 05:20:25.989000\n",
      "2020-02-25 05:20:57.993000\n",
      "2020-02-25 05:21:37.996000\n",
      "2020-02-25 05:22:10.007000\n",
      "2020-02-25 05:23:06.017000\n",
      "2020-02-25 05:23:54.012000\n",
      "2020-02-25 05:24:26.013000\n",
      "2020-02-25 05:24:58.026000\n",
      "2020-02-25 05:25:30.017000\n",
      "2020-02-25 05:26:02.017000\n",
      "2020-02-25 05:26:34.024000\n",
      "2020-02-25 05:26:50.025000\n",
      "2020-02-25 05:27:22.029000\n",
      "2020-02-25 05:27:46.032000\n",
      "2020-02-25 05:28:10.031000\n",
      "2020-02-25 05:31:30.081000\n",
      "2020-02-25 05:36:42.097000\n",
      "2020-02-25 05:38:10.103000\n",
      "2020-02-25 05:39:14.109000\n",
      "2020-02-25 05:40:02.126000\n",
      "2020-02-25 05:40:34.112000\n",
      "2020-02-25 05:40:50.112000\n",
      "2020-02-25 05:41:30.129000\n",
      "2020-02-25 05:42:10.115000\n",
      "2020-02-25 05:42:34.115000\n",
      "2020-02-25 05:43:06.120000\n",
      "2020-02-25 05:45:22.121000\n",
      "2020-02-25 05:46:02.125000\n",
      "2020-02-25 05:46:50.126000\n",
      "2020-02-25 05:47:14.141000\n",
      "2020-02-25 05:48:58.132000\n",
      "2020-02-25 05:49:38.146000\n",
      "2020-02-25 05:50:26.135000\n",
      "2020-02-25 05:51:14.148000\n",
      "2020-02-25 05:51:46.137000\n",
      "2020-02-25 05:52:18.137000\n",
      "2020-02-25 05:52:50.144000\n",
      "2020-02-25 05:53:22.148000\n",
      "2020-02-25 05:54:42.175000\n",
      "2020-02-25 05:55:22.168000\n",
      "2020-02-25 05:56:10.179000\n",
      "2020-02-25 05:56:42.181000\n",
      "2020-02-25 05:57:22.188000\n",
      "2020-02-25 05:58:18.200000\n",
      "2020-02-25 05:59:06.210000\n",
      "2020-02-25 05:59:38.216000\n",
      "2020-02-25 06:00:18.222000\n",
      "2020-02-25 06:00:50.231000\n",
      "2020-02-25 06:01:22.236000\n",
      "2020-02-25 06:01:46.241000\n",
      "2020-02-25 06:02:42.255000\n",
      "2020-02-25 06:03:14.261000\n",
      "2020-02-25 06:04:02.263000\n",
      "2020-02-25 06:04:34.270000\n",
      "2020-02-25 06:05:22.280000\n",
      "2020-02-25 06:06:10.288000\n",
      "2020-02-25 06:09:06.318000\n",
      "2020-02-25 06:09:46.327000\n",
      "2020-02-25 06:10:18.329000\n",
      "2020-02-25 06:11:38.347000\n",
      "2020-02-25 06:12:34.357000\n",
      "2020-02-25 06:13:06.363000\n",
      "2020-02-25 06:13:38.367000\n",
      "2020-02-25 06:20:50.430000\n",
      "2020-02-25 06:21:22.438000\n",
      "2020-02-25 06:22:02.442000\n",
      "2020-02-25 06:22:50.458000\n",
      "2020-02-25 06:24:10.465000\n",
      "2020-02-25 06:24:42.471000\n",
      "2020-02-25 06:25:22.471000\n",
      "2020-02-25 06:25:46.472000\n",
      "2020-02-25 06:26:58.490000\n",
      "2020-02-25 06:27:46.489000\n",
      "2020-02-25 06:28:26.506000\n",
      "2020-02-25 06:29:38.511000\n",
      "2020-02-25 06:30:10.514000\n",
      "2020-02-25 06:30:26.515000\n",
      "2020-02-25 06:31:06.527000\n",
      "2020-02-25 06:31:38.528000\n",
      "2020-02-25 06:32:02.533000\n",
      "2020-02-25 06:32:34.536000\n",
      "2020-02-25 06:33:22.543000\n",
      "2020-02-25 06:34:26.550000\n",
      "2020-02-25 06:34:58.556000\n",
      "2020-02-25 06:35:14.558000\n",
      "2020-02-25 06:35:30.557000\n",
      "2020-02-25 06:36:58.571000\n",
      "2020-02-25 06:37:54.573000\n",
      "2020-02-25 06:38:26.582000\n",
      "2020-02-25 06:38:42.584000\n",
      "2020-02-25 06:39:22.589000\n",
      "2020-02-25 06:40:19.009000\n",
      "2020-02-25 06:40:42.599000\n",
      "2020-02-25 06:41:14.617000\n",
      "2020-02-25 06:41:46.608000\n",
      "2020-02-25 06:42:18.617000\n",
      "2020-02-25 06:42:58.618000\n",
      "2020-02-25 06:43:30.635000\n",
      "2020-02-25 06:44:02.623000\n",
      "2020-02-25 06:44:18.639000\n",
      "2020-02-25 06:45:30.636000\n",
      "2020-02-25 06:46:26.655000\n",
      "2020-02-25 06:47:06.645000\n",
      "2020-02-25 06:47:38.651000\n",
      "2020-02-25 06:48:10.666000\n",
      "2020-02-25 06:48:42.668000\n",
      "2020-02-25 06:49:14.657000\n",
      "2020-02-25 06:49:30.674000\n",
      "2020-02-25 06:50:10.662000\n",
      "2020-02-25 06:50:58.668000\n",
      "2020-02-25 06:52:42.678000\n",
      "2020-02-25 06:53:30.701000\n",
      "2020-02-25 06:54:18.689000\n",
      "2020-02-25 06:54:50.692000\n",
      "2020-02-25 06:55:22.690000\n",
      "2020-02-25 06:56:18.695000\n",
      "2020-02-25 06:57:06.706000\n",
      "2020-02-25 06:58:10.713000\n",
      "2020-02-25 06:58:59.142000\n",
      "2020-02-25 06:59:46.717000\n",
      "2020-02-25 07:00:02.718000\n",
      "2020-02-25 07:00:34.723000\n",
      "2020-02-25 07:00:58.724000\n",
      "2020-02-25 07:02:02.740000\n",
      "2020-02-25 07:02:50.733000\n",
      "2020-02-25 07:03:30.740000\n",
      "2020-02-25 07:04:26.745000\n",
      "2020-02-25 07:04:58.747000\n",
      "2020-02-25 07:05:38.748000\n",
      "2020-02-25 07:06:02.755000\n",
      "2020-02-25 07:06:42.755000\n",
      "2020-02-25 07:07:06.759000\n",
      "2020-02-25 07:08:02.762000\n",
      "2020-02-25 07:08:26.764000\n",
      "2020-02-25 07:08:42.765000\n",
      "2020-02-25 07:09:06.763000\n",
      "2020-02-25 07:10:18.773000\n",
      "2020-02-25 07:11:46.776000\n",
      "2020-02-25 07:12:58.778000\n",
      "2020-02-25 07:14:02.781000\n",
      "2020-02-25 07:14:42.785000\n",
      "2020-02-25 07:14:58.784000\n",
      "2020-02-25 07:15:22.790000\n",
      "2020-02-25 07:17:46.817000\n",
      "2020-02-25 07:18:42.812000\n",
      "2020-02-25 07:19:46.816000\n",
      "2020-02-25 07:20:42.818000\n",
      "2020-02-25 07:22:02.819000\n",
      "2020-02-25 07:22:50.820000\n",
      "2020-02-25 07:23:06.819000\n",
      "2020-02-25 07:23:30.807000\n",
      "2020-02-25 07:24:02.808000\n",
      "2020-02-25 07:24:42.822000\n",
      "2020-02-25 07:25:22.817000\n",
      "2020-02-25 07:26:26.836000\n",
      "2020-02-25 07:27:46.835000\n",
      "2020-02-25 07:29:38.858000\n",
      "2020-02-25 08:47:47.421000\n",
      "2020-02-25 08:56:19.435000\n",
      "2020-02-25 08:57:31.446000\n",
      "2020-02-25 08:57:55.456000\n",
      "2020-02-25 08:58:11.452000\n",
      "2020-02-25 09:09:55.574000\n",
      "2020-02-25 09:10:27.580000\n",
      "2020-02-25 09:10:43.577000\n",
      "2020-02-25 09:14:35.618000\n",
      "2020-02-25 09:19:39.665000\n",
      "2020-02-25 10:07:23.984000\n",
      "2020-02-25 10:14:12.016000\n",
      "2020-02-25 10:14:28.016000\n",
      "2020-02-25 10:15:48.024000\n",
      "2020-02-25 10:16:12.032000\n",
      "2020-02-25 10:19:32.042000\n",
      "2020-02-25 10:22:28.053000\n",
      "2020-02-25 10:51:32.177000\n",
      "2020-02-25 10:52:36.195000\n",
      "2020-02-25 10:53:16.270000\n",
      "2020-02-25 10:56:36.224000\n",
      "2020-02-25 10:57:40.226000\n",
      "2020-02-25 10:58:44.238000\n",
      "2020-02-25 10:59:48.321000\n",
      "2020-02-25 11:00:44.255000\n",
      "2020-02-25 11:01:32.336000\n",
      "2020-02-25 11:01:56.265000\n",
      "2020-02-25 11:02:52.346000\n",
      "2020-02-25 11:03:32.272000\n",
      "2020-02-25 11:04:04.282000\n",
      "2020-02-25 11:04:44.286000\n",
      "2020-02-25 11:05:16.285000\n",
      "2020-02-25 11:05:56.296000\n",
      "2020-02-25 11:06:20.301000\n",
      "2020-02-25 11:06:52.297000\n",
      "2020-02-25 11:07:16.303000\n",
      "2020-02-25 11:07:56.305000\n",
      "2020-02-25 11:08:20.389000\n",
      "2020-02-25 11:08:44.312000\n",
      "2020-02-25 11:09:32.326000\n",
      "2020-02-25 11:10:12.327000\n",
      "2020-02-25 11:10:36.326000\n",
      "2020-02-25 11:11:08.413000\n",
      "2020-02-25 11:11:40.346000\n",
      "2020-02-25 11:12:04.346000\n",
      "2020-02-25 11:12:44.352000\n",
      "2020-02-25 11:13:16.357000\n",
      "2020-02-25 11:14:04.436000\n",
      "2020-02-25 11:14:44.360000\n",
      "2020-02-25 11:15:08.360000\n",
      "2020-02-25 11:15:40.373000\n",
      "2020-02-25 11:16:12.371000\n",
      "2020-02-25 11:16:52.375000\n",
      "2020-02-25 11:17:16.383000\n",
      "2020-02-25 11:18:04.384000\n",
      "2020-02-25 11:18:28.391000\n",
      "2020-02-25 11:18:52.387000\n",
      "2020-02-25 11:19:24.472000\n",
      "2020-02-25 11:21:48.410000\n",
      "2020-02-25 11:23:00.423000\n",
      "2020-02-25 11:23:24.504000\n",
      "2020-02-25 11:24:04.506000\n",
      "2020-02-25 11:24:44.437000\n",
      "2020-02-25 11:25:56.439000\n",
      "2020-02-25 11:26:20.441000\n",
      "2020-02-25 11:27:08.447000\n",
      "2020-02-25 11:37:40.511000\n",
      "2020-02-25 11:40:44.523000\n",
      "2020-02-25 11:41:16.529000\n",
      "2020-02-25 11:41:56.530000\n",
      "2020-02-25 11:43:08.537000\n",
      "2020-02-25 11:43:40.538000\n",
      "2020-02-25 11:44:28.546000\n",
      "2020-02-25 11:44:52.547000\n",
      "2020-02-25 11:45:48.553000\n",
      "2020-02-25 11:46:12.552000\n",
      "2020-02-25 11:47:00.559000\n",
      "2020-02-25 11:47:40.562000\n",
      "2020-02-25 11:48:20.563000\n",
      "2020-02-25 11:48:44.565000\n",
      "2020-02-25 11:49:00.567000\n",
      "2020-02-25 11:49:48.567000\n",
      "2020-02-25 11:50:12.577000\n",
      "2020-02-25 11:50:52.579000\n",
      "2020-02-25 11:51:24.576000\n",
      "2020-02-25 11:52:04.580000\n",
      "2020-02-25 11:52:28.584000\n",
      "2020-02-25 11:57:16.607000\n",
      "2020-02-25 11:57:48.607000\n",
      "2020-02-25 11:58:12.611000\n",
      "2020-02-25 11:58:52.609000\n",
      "2020-02-25 11:59:48.615000\n",
      "2020-02-25 12:00:28.621000\n",
      "2020-02-25 12:00:52.617000\n",
      "2020-02-25 12:01:24.622000\n",
      "2020-02-25 12:01:48.624000\n",
      "2020-02-25 12:02:12.624000\n",
      "2020-02-25 12:02:44.629000\n",
      "2020-02-25 12:03:00.634000\n",
      "2020-02-25 12:04:12.631000\n",
      "2020-02-25 12:07:40.650000\n",
      "2020-02-25 12:08:28.654000\n",
      "2020-02-25 12:09:40.653000\n",
      "2020-02-25 12:10:20.658000\n",
      "2020-02-25 12:10:52.656000\n",
      "2020-02-25 12:11:32.663000\n",
      "2020-02-25 12:12:20.667000\n",
      "2020-02-25 12:13:00.668000\n",
      "2020-02-25 12:13:32.743000\n",
      "2020-02-25 12:14:20.669000\n",
      "2020-02-25 12:15:00.677000\n",
      "2020-02-25 12:15:56.753000\n",
      "2020-02-25 12:16:28.763000\n",
      "2020-02-25 12:16:52.681000\n",
      "2020-02-25 12:17:24.682000\n",
      "2020-02-25 12:18:44.685000\n",
      "2020-02-25 12:19:24.685000\n",
      "2020-02-25 12:19:40.683000\n",
      "2020-02-25 12:20:04.682000\n",
      "2020-02-25 12:20:44.691000\n",
      "2020-02-25 12:21:16.689000\n",
      "2020-02-25 12:21:56.695000\n",
      "2020-02-25 12:22:52.691000\n",
      "2020-02-25 12:28:04.824000\n",
      "2020-02-25 12:38:44.859000\n",
      "2020-02-25 12:41:00.888000\n",
      "2020-02-25 12:42:04.898000\n",
      "2020-02-25 12:42:44.909000\n",
      "2020-02-25 12:43:08.911000\n",
      "2020-02-25 12:43:48.919000\n",
      "2020-02-25 12:44:28.922000\n",
      "2020-02-25 12:44:52.931000\n",
      "2020-02-25 12:45:32.933000\n",
      "2020-02-25 12:45:56.944000\n",
      "2020-02-25 12:46:28.951000\n",
      "2020-02-25 12:46:52.950000\n",
      "2020-02-25 12:47:16.958000\n",
      "2020-02-25 12:47:40.962000\n",
      "2020-02-25 12:48:12.971000\n",
      "2020-02-25 12:48:52.972000\n",
      "2020-02-25 12:49:24.974000\n",
      "2020-02-25 12:50:13.066000\n",
      "2020-02-25 12:51:00.997000\n",
      "2020-02-25 12:51:25.076000\n",
      "2020-02-25 12:51:57.006000\n",
      "2020-02-25 12:52:21.010000\n",
      "2020-02-25 12:53:01.024000\n",
      "2020-02-25 12:53:25.094000\n",
      "2020-02-25 12:54:13.022000\n",
      "2020-02-25 12:54:29.028000\n",
      "2020-02-25 12:55:09.031000\n",
      "2020-02-25 12:55:49.040000\n",
      "2020-02-25 12:56:13.040000\n",
      "2020-02-25 12:56:45.049000\n",
      "2020-02-25 12:57:09.047000\n",
      "2020-02-25 12:58:13.057000\n",
      "2020-02-25 12:59:33.071000\n",
      "2020-02-25 13:00:13.076000\n",
      "2020-02-25 13:00:37.080000\n",
      "2020-02-25 13:01:17.087000\n",
      "2020-02-25 13:01:49.086000\n",
      "2020-02-25 13:02:13.088000\n",
      "2020-02-25 13:02:53.096000\n",
      "2020-02-25 13:03:25.098000\n",
      "2020-02-25 13:03:49.095000\n",
      "2020-02-25 13:04:53.103000\n",
      "2020-02-25 13:05:25.103000\n",
      "2020-02-25 13:05:49.121000\n",
      "2020-02-25 13:06:29.114000\n",
      "2020-02-25 13:07:09.121000\n",
      "2020-02-25 13:07:49.126000\n",
      "2020-02-25 13:08:21.124000\n",
      "2020-02-25 13:10:05.137000\n",
      "2020-02-25 13:10:53.147000\n",
      "2020-02-25 13:11:25.153000\n",
      "2020-02-25 13:11:41.153000\n",
      "2020-02-25 13:12:13.154000\n",
      "2020-02-25 13:12:53.157000\n",
      "2020-02-25 13:15:09.178000\n",
      "2020-02-25 13:16:53.194000\n",
      "2020-02-25 13:18:29.196000\n",
      "2020-02-25 13:19:41.208000\n",
      "2020-02-25 13:20:13.212000\n",
      "2020-02-25 13:21:09.210000\n",
      "2020-02-25 13:21:25.218000\n",
      "2020-02-25 13:21:41.221000\n",
      "2020-02-25 13:22:05.223000\n",
      "2020-02-25 13:23:09.302000\n",
      "2020-02-25 13:23:49.232000\n",
      "2020-02-25 13:24:29.313000\n",
      "2020-02-25 13:24:53.241000\n",
      "2020-02-25 13:25:09.242000\n",
      "2020-02-25 13:26:45.254000\n",
      "2020-02-25 13:27:09.253000\n",
      "2020-02-25 13:27:33.258000\n",
      "2020-02-25 13:28:37.257000\n",
      "2020-02-25 13:28:53.265000\n",
      "2020-02-25 13:29:09.263000\n",
      "2020-02-25 13:29:57.264000\n",
      "2020-03-11 08:30:03.703000\n",
      "2020-02-25 04:32:57.587000\n",
      "2020-02-25 04:35:13.610000\n",
      "2020-02-25 04:36:17.627000\n",
      "2020-02-25 04:36:57.633000\n",
      "2020-02-25 04:37:21.636000\n",
      "2020-02-25 04:37:45.642000\n",
      "2020-02-25 04:38:25.646000\n",
      "2020-02-25 04:39:45.665000\n",
      "2020-02-25 04:42:25.692000\n",
      "2020-02-25 04:48:01.744000\n",
      "2020-02-25 04:55:37.812000\n",
      "2020-02-25 04:56:41.820000\n",
      "2020-02-25 04:56:57.820000\n",
      "2020-02-25 04:57:53.829000\n",
      "2020-02-25 04:58:41.834000\n",
      "2020-02-25 04:59:13.840000\n",
      "2020-02-25 05:00:49.858000\n",
      "2020-02-25 05:02:01.869000\n",
      "2020-02-25 05:03:29.888000\n",
      "2020-02-25 05:04:33.889000\n",
      "2020-02-25 05:05:29.896000\n",
      "2020-02-25 05:05:45.895000\n",
      "2020-02-25 05:06:17.910000\n",
      "2020-02-25 05:10:57.931000\n",
      "2020-02-25 05:11:37.937000\n",
      "2020-02-25 05:13:05.944000\n",
      "2020-02-25 05:14:01.952000\n",
      "2020-02-25 05:14:25.950000\n",
      "2020-02-25 05:15:21.962000\n",
      "2020-02-25 05:16:17.968000\n",
      "2020-02-25 05:17:05.968000\n",
      "2020-02-25 05:17:45.976000\n",
      "2020-02-25 05:19:05.986000\n"
     ]
    },
    {
     "name": "stdout",
     "output_type": "stream",
     "text": [
      "2020-02-25 05:19:45.987000\n",
      "2020-02-25 05:20:41.989000\n",
      "2020-02-25 05:21:05.992000\n",
      "2020-02-25 05:22:02.009000\n",
      "2020-02-25 05:22:34.005000\n",
      "2020-02-25 05:23:30.014000\n",
      "2020-02-25 05:24:10.013000\n",
      "2020-02-25 05:25:38.022000\n",
      "2020-02-25 05:26:10.023000\n",
      "2020-02-25 05:26:58.026000\n",
      "2020-02-25 05:27:38.031000\n",
      "2020-02-25 05:28:26.042000\n",
      "2020-02-25 05:31:38.072000\n",
      "2020-02-25 05:37:14.114000\n",
      "2020-02-25 05:38:26.119000\n",
      "2020-02-25 05:39:38.128000\n",
      "2020-02-25 05:40:18.113000\n",
      "2020-02-25 05:41:06.131000\n",
      "2020-02-25 05:41:46.116000\n",
      "2020-02-25 05:42:58.123000\n",
      "2020-02-25 05:43:14.136000\n",
      "2020-02-25 05:45:46.126000\n",
      "2020-02-25 05:46:26.130000\n",
      "2020-02-25 05:47:06.130000\n",
      "2020-02-25 05:48:34.133000\n",
      "2020-02-25 05:49:22.134000\n",
      "2020-02-25 05:50:10.136000\n",
      "2020-02-25 05:51:38.138000\n",
      "2020-02-25 05:52:02.139000\n",
      "2020-02-25 05:52:34.158000\n",
      "2020-02-25 05:53:06.150000\n",
      "2020-02-25 05:53:54.171000\n",
      "2020-02-25 05:55:06.167000\n",
      "2020-02-25 05:55:54.174000\n",
      "2020-02-25 05:56:26.182000\n",
      "2020-02-25 05:57:06.183000\n",
      "2020-02-25 05:58:10.197000\n",
      "2020-02-25 05:58:50.206000\n",
      "2020-02-25 05:59:22.213000\n",
      "2020-02-25 05:59:54.224000\n",
      "2020-02-25 06:00:34.229000\n",
      "2020-02-25 06:01:38.239000\n",
      "2020-02-25 06:02:18.252000\n",
      "2020-02-25 06:02:50.253000\n",
      "2020-02-25 06:03:38.265000\n",
      "2020-02-25 06:04:18.272000\n",
      "2020-02-25 06:04:50.278000\n",
      "2020-02-25 06:05:38.286000\n",
      "2020-02-25 06:06:18.296000\n",
      "2020-02-25 06:09:30.325000\n",
      "2020-02-25 06:10:42.339000\n",
      "2020-02-25 06:11:06.344000\n",
      "2020-02-25 06:12:18.358000\n",
      "2020-02-25 06:12:58.360000\n",
      "2020-02-25 06:13:22.365000\n",
      "2020-02-25 06:13:46.365000\n",
      "2020-02-25 06:21:06.438000\n",
      "2020-02-25 06:21:38.442000\n",
      "2020-02-25 06:22:34.449000\n",
      "2020-02-25 06:24:02.464000\n",
      "2020-02-25 06:24:26.467000\n",
      "2020-02-25 06:25:14.470000\n",
      "2020-02-25 06:25:30.471000\n",
      "2020-02-25 06:27:06.491000\n",
      "2020-02-25 06:28:10.501000\n",
      "2020-02-25 06:30:02.516000\n",
      "2020-02-25 06:30:18.526000\n",
      "2020-02-25 06:30:42.523000\n",
      "2020-02-25 06:31:22.528000\n",
      "2020-02-25 06:32:10.540000\n",
      "2020-02-25 06:33:06.547000\n",
      "2020-02-25 06:34:10.551000\n",
      "2020-02-25 06:34:42.552000\n",
      "2020-02-25 06:35:06.558000\n",
      "2020-02-25 06:35:22.559000\n",
      "2020-02-25 06:36:50.574000\n",
      "2020-02-25 06:37:38.581000\n",
      "2020-02-25 06:38:10.583000\n",
      "2020-02-25 06:38:34.585000\n",
      "2020-02-25 06:39:14.604000\n",
      "2020-02-25 06:40:10.599000\n",
      "2020-02-25 06:41:06.605000\n",
      "2020-02-25 06:41:22.604000\n",
      "2020-02-25 06:42:34.617000\n",
      "2020-02-25 06:43:54.627000\n",
      "2020-02-25 06:44:26.630000\n",
      "2020-02-25 06:46:10.639000\n",
      "2020-02-25 06:47:54.666000\n",
      "2020-02-25 06:48:18.654000\n",
      "2020-02-25 06:48:50.672000\n",
      "2020-02-25 06:49:46.664000\n",
      "2020-02-25 06:50:26.667000\n",
      "2020-02-25 06:51:46.687000\n",
      "2020-02-25 06:53:14.684000\n",
      "2020-02-25 06:54:02.690000\n",
      "2020-02-25 06:54:58.698000\n",
      "2020-02-25 06:55:38.694000\n",
      "2020-02-25 06:56:50.709000\n",
      "2020-02-25 06:57:54.712000\n",
      "2020-02-25 06:58:18.720000\n",
      "2020-02-25 06:59:14.726000\n",
      "2020-02-25 06:59:54.721000\n",
      "2020-02-25 07:00:26.726000\n",
      "2020-02-25 07:00:42.727000\n",
      "2020-02-25 07:01:38.730000\n",
      "2020-02-25 07:02:34.741000\n",
      "2020-02-25 07:03:14.741000\n",
      "2020-02-25 07:04:02.741000\n",
      "2020-02-25 07:04:42.756000\n",
      "2020-02-25 07:05:22.755000\n",
      "2020-02-25 07:05:54.756000\n",
      "2020-02-25 07:06:34.758000\n",
      "2020-02-25 07:06:50.758000\n",
      "2020-02-25 07:07:22.763000\n",
      "2020-02-25 07:08:18.764000\n",
      "2020-02-25 07:08:34.767000\n",
      "2020-02-25 07:08:50.770000\n",
      "2020-02-25 07:10:10.773000\n",
      "2020-02-25 07:11:30.779000\n",
      "2020-02-25 07:12:18.781000\n",
      "2020-02-25 07:13:38.785000\n",
      "2020-02-25 07:14:18.783000\n",
      "2020-02-25 07:15:14.786000\n",
      "2020-02-25 07:17:30.817000\n",
      "2020-02-25 07:18:10.819000\n",
      "2020-02-25 07:19:54.816000\n",
      "2020-02-25 07:21:46.820000\n",
      "2020-02-25 07:22:58.809000\n",
      "2020-02-25 07:23:22.824000\n",
      "2020-02-25 07:23:46.811000\n",
      "2020-02-25 07:24:26.818000\n",
      "2020-02-25 07:25:06.833000\n",
      "2020-02-25 07:26:10.822000\n",
      "2020-02-25 07:26:58.846000\n",
      "2020-02-25 07:28:58.854000\n",
      "2020-02-25 07:29:14.855000\n",
      "2020-02-25 08:30:03.364000\n",
      "2020-02-25 08:55:55.436000\n",
      "2020-02-25 08:56:27.443000\n",
      "2020-02-25 08:57:39.448000\n",
      "2020-02-25 08:58:03.453000\n",
      "2020-02-25 09:02:11.497000\n",
      "2020-02-25 09:10:03.577000\n",
      "2020-02-25 09:10:35.585000\n",
      "2020-02-25 09:10:59.590000\n",
      "2020-02-25 09:14:51.628000\n",
      "2020-02-25 10:15:24.021000\n",
      "2020-02-25 10:16:04.025000\n",
      "2020-02-25 10:22:20.055000\n",
      "2020-02-25 10:24:28.062000\n",
      "2020-02-25 10:51:40.195000\n",
      "2020-02-25 10:52:44.192000\n",
      "2020-02-25 10:56:28.225000\n",
      "2020-02-25 10:57:24.231000\n",
      "2020-02-25 10:58:28.312000\n",
      "2020-02-25 10:58:52.239000\n",
      "2020-02-25 11:02:20.348000\n",
      "2020-02-25 11:03:08.278000\n",
      "2020-02-25 11:03:48.276000\n",
      "2020-02-25 11:04:28.288000\n",
      "2020-02-25 11:05:00.289000\n",
      "2020-02-25 11:05:40.291000\n",
      "2020-02-25 11:06:12.298000\n",
      "2020-02-25 11:07:00.306000\n",
      "2020-02-25 11:07:32.386000\n",
      "2020-02-25 11:08:12.318000\n",
      "2020-02-25 11:08:28.319000\n",
      "2020-02-25 11:09:40.402000\n",
      "2020-02-25 11:09:56.403000\n",
      "2020-02-25 11:10:44.336000\n",
      "2020-02-25 11:11:24.415000\n",
      "2020-02-25 11:12:20.349000\n",
      "2020-02-25 11:13:48.358000\n",
      "2020-02-25 11:14:28.364000\n",
      "2020-02-25 11:15:00.373000\n",
      "2020-02-25 11:15:56.374000\n",
      "2020-02-25 11:16:36.454000\n",
      "2020-02-25 11:17:08.387000\n",
      "2020-02-25 11:17:32.461000\n",
      "2020-02-25 11:18:36.470000\n",
      "2020-02-25 11:19:08.393000\n",
      "2020-02-25 11:22:52.500000\n",
      "2020-02-25 11:23:08.427000\n",
      "2020-02-25 11:23:48.427000\n",
      "2020-02-25 11:24:12.432000\n",
      "2020-02-25 11:25:24.443000\n",
      "2020-02-25 11:26:12.446000\n",
      "2020-02-25 11:26:44.522000\n",
      "2020-02-25 11:27:24.527000\n",
      "2020-02-25 11:38:04.517000\n",
      "2020-02-25 11:41:32.536000\n",
      "2020-02-25 11:42:44.538000\n",
      "2020-02-25 11:43:24.544000\n",
      "2020-02-25 11:44:04.547000\n",
      "2020-02-25 11:44:36.547000\n",
      "2020-02-25 11:45:16.549000\n",
      "2020-02-25 11:46:04.553000\n",
      "2020-02-25 11:46:36.559000\n",
      "2020-02-25 11:47:32.562000\n",
      "2020-02-25 11:48:04.567000\n",
      "2020-02-25 11:48:36.576000\n",
      "2020-02-25 11:48:52.563000\n",
      "2020-02-25 11:49:24.574000\n",
      "2020-02-25 11:50:04.575000\n",
      "2020-02-25 11:50:36.575000\n",
      "2020-02-25 11:51:40.583000\n",
      "2020-02-25 11:56:52.604000\n",
      "2020-02-25 11:57:24.614000\n",
      "2020-02-25 11:58:20.615000\n",
      "2020-02-25 11:59:24.617000\n",
      "2020-02-25 12:00:04.623000\n",
      "2020-02-25 12:01:00.626000\n",
      "2020-02-25 12:01:56.629000\n",
      "2020-02-25 12:02:28.636000\n",
      "2020-02-25 12:02:52.631000\n",
      "2020-02-25 12:07:24.651000\n",
      "2020-02-25 12:09:32.655000\n",
      "2020-02-25 12:09:56.661000\n",
      "2020-02-25 12:10:36.660000\n",
      "2020-02-25 12:11:16.663000\n",
      "2020-02-25 12:11:56.668000\n",
      "2020-02-25 12:12:44.665000\n",
      "2020-02-25 12:13:16.744000\n",
      "2020-02-25 12:14:04.748000\n",
      "2020-02-25 12:14:44.674000\n",
      "2020-02-25 12:16:12.681000\n",
      "2020-02-25 12:17:08.683000\n",
      "2020-02-25 12:17:40.684000\n",
      "2020-02-25 12:19:00.686000\n",
      "2020-02-25 12:19:56.686000\n",
      "2020-02-25 12:20:28.693000\n",
      "2020-02-25 12:21:08.693000\n",
      "2020-02-25 12:21:40.695000\n",
      "2020-02-25 12:22:04.699000\n",
      "2020-02-25 12:23:08.702000\n",
      "2020-02-25 12:28:12.829000\n",
      "2020-02-25 12:39:00.862000\n",
      "2020-02-25 12:41:56.904000\n",
      "2020-02-25 12:42:28.908000\n",
      "2020-02-25 12:43:00.914000\n",
      "2020-02-25 12:43:32.913000\n",
      "2020-02-25 12:44:12.922000\n",
      "2020-02-25 12:44:36.932000\n",
      "2020-02-25 12:45:08.938000\n",
      "2020-02-25 12:45:48.944000\n",
      "2020-02-25 12:46:04.948000\n",
      "2020-02-25 12:46:36.952000\n",
      "2020-02-25 12:47:00.953000\n",
      "2020-02-25 12:47:24.960000\n",
      "2020-02-25 12:48:36.972000\n",
      "2020-02-25 12:49:16.995000\n",
      "2020-02-25 12:49:48.986000\n",
      "2020-02-25 12:51:09.082000\n",
      "2020-02-25 12:51:41.008000\n",
      "2020-02-25 12:52:45.021000\n",
      "2020-02-25 12:53:33.096000\n",
      "2020-02-25 12:54:21.102000\n",
      "2020-02-25 12:54:53.033000\n",
      "2020-02-25 12:55:41.041000\n",
      "2020-02-25 12:55:57.041000\n",
      "2020-02-25 12:56:37.050000\n",
      "2020-02-25 12:56:53.051000\n",
      "2020-02-25 12:58:05.060000\n",
      "2020-02-25 12:58:21.065000\n",
      "2020-02-25 12:59:49.075000\n",
      "2020-02-25 13:00:21.081000\n",
      "2020-02-25 13:00:53.085000\n",
      "2020-02-25 13:01:33.091000\n",
      "2020-02-25 13:01:57.092000\n",
      "2020-02-25 13:02:29.102000\n",
      "2020-02-25 13:03:17.098000\n",
      "2020-02-25 13:03:33.100000\n",
      "2020-02-25 13:04:05.104000\n",
      "2020-02-25 13:04:29.112000\n",
      "2020-02-25 13:05:01.108000\n",
      "2020-02-25 13:05:57.116000\n",
      "2020-02-25 13:07:01.122000\n",
      "2020-02-25 13:07:33.120000\n",
      "2020-02-25 13:08:05.127000\n",
      "2020-02-25 13:08:29.137000\n",
      "2020-02-25 13:10:29.145000\n",
      "2020-02-25 13:11:01.151000\n",
      "2020-02-25 13:11:33.155000\n",
      "2020-02-25 13:11:57.160000\n",
      "2020-02-25 13:12:37.159000\n",
      "2020-02-25 13:15:01.178000\n",
      "2020-02-25 13:16:45.193000\n",
      "2020-02-25 13:17:17.195000\n",
      "2020-02-25 13:19:17.207000\n",
      "2020-02-25 13:19:57.210000\n",
      "2020-02-25 13:20:53.217000\n",
      "2020-02-25 13:21:33.218000\n",
      "2020-02-25 13:21:49.223000\n",
      "2020-02-25 13:22:45.230000\n",
      "2020-02-25 13:23:33.236000\n",
      "2020-02-25 13:26:29.255000\n",
      "2020-02-25 13:27:25.262000\n",
      "2020-02-25 13:27:57.262000\n",
      "2020-02-25 13:29:41.269000\n",
      "2020-02-25 07:30:02.861000\n",
      "2020-02-25 08:46:51.418000\n",
      "2020-02-25 08:52:11.436000\n",
      "2020-02-25 09:50:59.906000\n"
     ]
    }
   ],
   "source": [
    "df6 = pd.read_csv(file_name+'-4_time_diff.csv')\n",
    "\n",
    "# from datetime import datetime\n",
    "format1 = '%Y-%m-%d %H:%M:%S.%f'\n",
    "start = df6_1[1]\n",
    "end = df6_1[len(df6_1)-1]\n",
    "\n",
    "remove = [] \n",
    "for i in df6_1 :\n",
    "    nw = datetime.strptime(i, format1)\n",
    "    print(nw)\n",
    "    hrs = nw.hour;mins = nw.minute;secs = nw.second;\n",
    "    zero = timedelta(seconds = secs+mins*60+hrs*3600)\n",
    "    st = nw - zero # this take me to 0 hours. \n",
    "    time1 = st + timedelta(seconds= int(st_hr)*3600 + int(st_min)*60) # this gives 12:50 PM\n",
    "    time2 = st + timedelta(seconds= int(ed_hr)*3600 + int(ed_min)*60)  # this gives 2:30 PM\n",
    "    \n",
    "    if nw>= time1 and nw <= time2:\n",
    "        remove.append(i)\n",
    "    else:\n",
    "        pass"
   ]
  },
  {
   "cell_type": "code",
   "execution_count": 26,
   "metadata": {},
   "outputs": [],
   "source": [
    "# remove"
   ]
  },
  {
   "cell_type": "code",
   "execution_count": 27,
   "metadata": {},
   "outputs": [],
   "source": [
    "# df6_1"
   ]
  },
  {
   "cell_type": "code",
   "execution_count": 241,
   "metadata": {},
   "outputs": [],
   "source": [
    "df7 = df6"
   ]
  },
  {
   "cell_type": "code",
   "execution_count": 242,
   "metadata": {},
   "outputs": [],
   "source": [
    "# df7"
   ]
  },
  {
   "cell_type": "code",
   "execution_count": 243,
   "metadata": {},
   "outputs": [],
   "source": [
    "for j in remove:\n",
    "    df7 = df7[df7.start_time != j]"
   ]
  },
  {
   "cell_type": "code",
   "execution_count": 244,
   "metadata": {
    "scrolled": true
   },
   "outputs": [],
   "source": [
    "# df7"
   ]
  },
  {
   "cell_type": "code",
   "execution_count": 245,
   "metadata": {},
   "outputs": [],
   "source": [
    "df7.to_csv(file_name+'-6_time_diff_removed_lunch.csv',index=False)"
   ]
  },
  {
   "cell_type": "markdown",
   "metadata": {},
   "source": [
    "##### Removig faults other then main faults"
   ]
  },
  {
   "cell_type": "code",
   "execution_count": 246,
   "metadata": {},
   "outputs": [],
   "source": [
    "df8 = pd.read_csv(file_name+'-6_time_diff_removed_lunch.csv')"
   ]
  },
  {
   "cell_type": "code",
   "execution_count": 247,
   "metadata": {},
   "outputs": [],
   "source": [
    "other_stops = ['pdt', 'running', 'blocked', 'waiting', 'manual_stop', 'ready']"
   ]
  },
  {
   "cell_type": "code",
   "execution_count": 248,
   "metadata": {},
   "outputs": [],
   "source": [
    "for j in other_stops:\n",
    "    df8 = df8[df8.stop_name != j]"
   ]
  },
  {
   "cell_type": "code",
   "execution_count": 249,
   "metadata": {
    "scrolled": true
   },
   "outputs": [],
   "source": [
    "df8.to_csv(file_name+'-7_sum.csv',index=False)"
   ]
  },
  {
   "cell_type": "markdown",
   "metadata": {},
   "source": [
    "##### Sum of time diffs for only faults"
   ]
  },
  {
   "cell_type": "code",
   "execution_count": 250,
   "metadata": {
    "scrolled": false
   },
   "outputs": [],
   "source": [
    "df8_1 = pd.DataFrame({'fault_frequency' : df8.groupby(['machine_name'])['time_diff'].sum()}).reset_index()\n",
    "# df8_1"
   ]
  },
  {
   "cell_type": "code",
   "execution_count": 251,
   "metadata": {},
   "outputs": [],
   "source": [
    "machine_name = ['case_erector', 'case_packer', 'filler', 'labeller', 'palletiser', 'vertilator']\n",
    "time_sum = []"
   ]
  },
  {
   "cell_type": "code",
   "execution_count": 252,
   "metadata": {},
   "outputs": [
    {
     "data": {
      "text/plain": [
       "['00:02:25', '00:01:55', '00:31:00']"
      ]
     },
     "execution_count": 252,
     "metadata": {},
     "output_type": "execute_result"
    }
   ],
   "source": [
    "df8_case_erector = ([df8_1.fault_frequency[0][i:i+8] for i in range(0, len(df8_1.fault_frequency[0]), 8)]) \n",
    "df8_case_erector"
   ]
  },
  {
   "cell_type": "code",
   "execution_count": 254,
   "metadata": {},
   "outputs": [
    {
     "name": "stdout",
     "output_type": "stream",
     "text": [
      "0:35:20\n"
     ]
    }
   ],
   "source": [
    "import datetime\n",
    "\n",
    "sum = datetime.timedelta()\n",
    "for i in df8_case_erector:\n",
    "    (h, m, s) = i.split(':')\n",
    "    d = datetime.timedelta(hours=int(h), minutes=int(m), seconds=int(s))\n",
    "    sum += d\n",
    "print(str(sum))\n",
    "time_sum.append(str(sum))\n",
    "# time_sum"
   ]
  },
  {
   "cell_type": "code",
   "execution_count": 134,
   "metadata": {},
   "outputs": [
    {
     "data": {
      "text/plain": [
       "['00:00:19',\n",
       " '00:00:48',\n",
       " '00:00:20',\n",
       " '00:17:40',\n",
       " '00:00:16',\n",
       " '00:00:12',\n",
       " '00:00:16',\n",
       " '00:00:23',\n",
       " '00:00:20',\n",
       " '00:00:16',\n",
       " '00:01:16',\n",
       " '00:00:12',\n",
       " '00:01:44',\n",
       " '00:00:12']"
      ]
     },
     "execution_count": 134,
     "metadata": {},
     "output_type": "execute_result"
    }
   ],
   "source": [
    "df8_case_packer = ([df8_1.fault_frequency[1][i:i+8] for i in range(0, len(df8_1.fault_frequency[1]), 8)]) \n",
    "df8_case_packer"
   ]
  },
  {
   "cell_type": "code",
   "execution_count": 135,
   "metadata": {},
   "outputs": [
    {
     "name": "stdout",
     "output_type": "stream",
     "text": [
      "0:24:14\n"
     ]
    },
    {
     "data": {
      "text/plain": [
       "['0:35:20', '0:24:14']"
      ]
     },
     "execution_count": 135,
     "metadata": {},
     "output_type": "execute_result"
    }
   ],
   "source": [
    "# import datetime\n",
    "\n",
    "sum = datetime.timedelta()\n",
    "for i in df8_case_packer:\n",
    "    (h, m, s) = i.split(':')\n",
    "    d = datetime.timedelta(hours=int(h), minutes=int(m), seconds=int(s))\n",
    "    sum += d\n",
    "print(str(sum))\n",
    "time_sum.append(str(sum))\n",
    "time_sum"
   ]
  },
  {
   "cell_type": "code",
   "execution_count": 136,
   "metadata": {},
   "outputs": [
    {
     "data": {
      "text/plain": [
       "['00:01:46',\n",
       " '00:00:38',\n",
       " '00:02:02',\n",
       " '00:00:18',\n",
       " '00:00:24',\n",
       " '00:00:10',\n",
       " '00:00:10']"
      ]
     },
     "execution_count": 136,
     "metadata": {},
     "output_type": "execute_result"
    }
   ],
   "source": [
    "df8_filler = ([df8_1.fault_frequency[2][i:i+8] for i in range(0, len(df8_1.fault_frequency[2]), 8)]) \n",
    "df8_filler"
   ]
  },
  {
   "cell_type": "code",
   "execution_count": 137,
   "metadata": {},
   "outputs": [
    {
     "name": "stdout",
     "output_type": "stream",
     "text": [
      "0:05:28\n"
     ]
    }
   ],
   "source": [
    "# import datetime\n",
    "\n",
    "sum = datetime.timedelta()\n",
    "for i in df8_filler:\n",
    "    (h, m, s) = i.split(':')\n",
    "    d = datetime.timedelta(hours=int(h), minutes=int(m), seconds=int(s))\n",
    "    sum += d\n",
    "print(str(sum))\n",
    "time_sum.append(str(sum))"
   ]
  },
  {
   "cell_type": "code",
   "execution_count": 138,
   "metadata": {},
   "outputs": [
    {
     "data": {
      "text/plain": [
       "['00:00:05', '00:03:25']"
      ]
     },
     "execution_count": 138,
     "metadata": {},
     "output_type": "execute_result"
    }
   ],
   "source": [
    "df8_labeller = ([df8_1.fault_frequency[3][i:i+8] for i in range(0, len(df8_1.fault_frequency[3]), 8)]) \n",
    "df8_labeller"
   ]
  },
  {
   "cell_type": "code",
   "execution_count": 139,
   "metadata": {},
   "outputs": [
    {
     "name": "stdout",
     "output_type": "stream",
     "text": [
      "0:03:30\n"
     ]
    }
   ],
   "source": [
    "# import datetime\n",
    "\n",
    "sum = datetime.timedelta()\n",
    "for i in df8_labeller:\n",
    "    (h, m, s) = i.split(':')\n",
    "    d = datetime.timedelta(hours=int(h), minutes=int(m), seconds=int(s))\n",
    "    sum += d\n",
    "print(str(sum))\n",
    "time_sum.append(str(sum))"
   ]
  },
  {
   "cell_type": "code",
   "execution_count": 140,
   "metadata": {},
   "outputs": [
    {
     "data": {
      "text/plain": [
       "['00:01:03']"
      ]
     },
     "execution_count": 140,
     "metadata": {},
     "output_type": "execute_result"
    }
   ],
   "source": [
    "df8_palletiser = ([df8_1.fault_frequency[4][i:i+8] for i in range(0, len(df8_1.fault_frequency[4]), 8)]) \n",
    "df8_palletiser"
   ]
  },
  {
   "cell_type": "code",
   "execution_count": 141,
   "metadata": {},
   "outputs": [
    {
     "name": "stdout",
     "output_type": "stream",
     "text": [
      "0:01:03\n"
     ]
    }
   ],
   "source": [
    "# import datetime\n",
    "\n",
    "sum = datetime.timedelta()\n",
    "for i in df8_palletiser:\n",
    "    (h, m, s) = i.split(':')\n",
    "    d = datetime.timedelta(hours=int(h), minutes=int(m), seconds=int(s))\n",
    "    sum += d\n",
    "print(str(sum))\n",
    "time_sum.append(str(sum))"
   ]
  },
  {
   "cell_type": "code",
   "execution_count": 142,
   "metadata": {},
   "outputs": [
    {
     "data": {
      "text/plain": [
       "['00:00:19',\n",
       " '00:00:48',\n",
       " '00:00:20',\n",
       " '00:17:40',\n",
       " '00:00:16',\n",
       " '00:00:12',\n",
       " '00:00:16',\n",
       " '00:00:23',\n",
       " '00:00:20',\n",
       " '00:00:16',\n",
       " '00:01:16',\n",
       " '00:00:12',\n",
       " '00:01:44',\n",
       " '00:00:12']"
      ]
     },
     "execution_count": 142,
     "metadata": {},
     "output_type": "execute_result"
    }
   ],
   "source": [
    "df8_vertilator = ([df8_1.fault_frequency[1][i:i+8] for i in range(0, len(df8_1.fault_frequency[1]), 8)]) \n",
    "df8_vertilator"
   ]
  },
  {
   "cell_type": "code",
   "execution_count": 143,
   "metadata": {},
   "outputs": [
    {
     "name": "stdout",
     "output_type": "stream",
     "text": [
      "0:24:14\n"
     ]
    }
   ],
   "source": [
    "# import datetime\n",
    "\n",
    "sum = datetime.timedelta()\n",
    "for i in df8_vertilator:\n",
    "    (h, m, s) = i.split(':')\n",
    "    d = datetime.timedelta(hours=int(h), minutes=int(m), seconds=int(s))\n",
    "    sum += d\n",
    "print(str(sum))\n",
    "time_sum.append(str(sum))"
   ]
  },
  {
   "cell_type": "code",
   "execution_count": 144,
   "metadata": {},
   "outputs": [
    {
     "data": {
      "text/plain": [
       "['0:35:20', '0:24:14', '0:05:28', '0:03:30', '0:01:03', '0:24:14']"
      ]
     },
     "execution_count": 144,
     "metadata": {},
     "output_type": "execute_result"
    }
   ],
   "source": [
    "time_sum"
   ]
  },
  {
   "cell_type": "code",
   "execution_count": 145,
   "metadata": {},
   "outputs": [],
   "source": [
    "df8_1['sum_time_diff'] = time_sum"
   ]
  },
  {
   "cell_type": "code",
   "execution_count": 146,
   "metadata": {},
   "outputs": [
    {
     "data": {
      "text/html": [
       "<div>\n",
       "<style scoped>\n",
       "    .dataframe tbody tr th:only-of-type {\n",
       "        vertical-align: middle;\n",
       "    }\n",
       "\n",
       "    .dataframe tbody tr th {\n",
       "        vertical-align: top;\n",
       "    }\n",
       "\n",
       "    .dataframe thead th {\n",
       "        text-align: right;\n",
       "    }\n",
       "</style>\n",
       "<table border=\"1\" class=\"dataframe\">\n",
       "  <thead>\n",
       "    <tr style=\"text-align: right;\">\n",
       "      <th></th>\n",
       "      <th>machine_name</th>\n",
       "      <th>fault_frequency</th>\n",
       "      <th>sum_time_diff</th>\n",
       "    </tr>\n",
       "  </thead>\n",
       "  <tbody>\n",
       "    <tr>\n",
       "      <th>0</th>\n",
       "      <td>case_erector</td>\n",
       "      <td>00:02:2500:01:5500:31:00</td>\n",
       "      <td>0:35:20</td>\n",
       "    </tr>\n",
       "    <tr>\n",
       "      <th>1</th>\n",
       "      <td>case_packer</td>\n",
       "      <td>00:00:1900:00:4800:00:2000:17:4000:00:1600:00:...</td>\n",
       "      <td>0:24:14</td>\n",
       "    </tr>\n",
       "    <tr>\n",
       "      <th>2</th>\n",
       "      <td>filler</td>\n",
       "      <td>00:01:4600:00:3800:02:0200:00:1800:00:2400:00:...</td>\n",
       "      <td>0:05:28</td>\n",
       "    </tr>\n",
       "    <tr>\n",
       "      <th>3</th>\n",
       "      <td>labeller</td>\n",
       "      <td>00:00:0500:03:25</td>\n",
       "      <td>0:03:30</td>\n",
       "    </tr>\n",
       "    <tr>\n",
       "      <th>4</th>\n",
       "      <td>palletiser</td>\n",
       "      <td>00:01:03</td>\n",
       "      <td>0:01:03</td>\n",
       "    </tr>\n",
       "    <tr>\n",
       "      <th>5</th>\n",
       "      <td>vertilator</td>\n",
       "      <td>00:00:5600:03:4400:16:24</td>\n",
       "      <td>0:24:14</td>\n",
       "    </tr>\n",
       "  </tbody>\n",
       "</table>\n",
       "</div>"
      ],
      "text/plain": [
       "   machine_name                                    fault_frequency  \\\n",
       "0  case_erector                           00:02:2500:01:5500:31:00   \n",
       "1   case_packer  00:00:1900:00:4800:00:2000:17:4000:00:1600:00:...   \n",
       "2        filler  00:01:4600:00:3800:02:0200:00:1800:00:2400:00:...   \n",
       "3      labeller                                   00:00:0500:03:25   \n",
       "4    palletiser                                           00:01:03   \n",
       "5    vertilator                           00:00:5600:03:4400:16:24   \n",
       "\n",
       "  sum_time_diff  \n",
       "0       0:35:20  \n",
       "1       0:24:14  \n",
       "2       0:05:28  \n",
       "3       0:03:30  \n",
       "4       0:01:03  \n",
       "5       0:24:14  "
      ]
     },
     "execution_count": 146,
     "metadata": {},
     "output_type": "execute_result"
    }
   ],
   "source": [
    "df8_1"
   ]
  },
  {
   "cell_type": "code",
   "execution_count": 147,
   "metadata": {},
   "outputs": [],
   "source": [
    "df8_1 = df8_1.drop(['fault_frequency'], axis=1)\n",
    "# df8_1"
   ]
  },
  {
   "cell_type": "code",
   "execution_count": 148,
   "metadata": {},
   "outputs": [
    {
     "data": {
      "text/html": [
       "<div>\n",
       "<style scoped>\n",
       "    .dataframe tbody tr th:only-of-type {\n",
       "        vertical-align: middle;\n",
       "    }\n",
       "\n",
       "    .dataframe tbody tr th {\n",
       "        vertical-align: top;\n",
       "    }\n",
       "\n",
       "    .dataframe thead th {\n",
       "        text-align: right;\n",
       "    }\n",
       "</style>\n",
       "<table border=\"1\" class=\"dataframe\">\n",
       "  <thead>\n",
       "    <tr style=\"text-align: right;\">\n",
       "      <th></th>\n",
       "      <th>machine_name</th>\n",
       "      <th>sum_time_diff</th>\n",
       "    </tr>\n",
       "  </thead>\n",
       "  <tbody>\n",
       "    <tr>\n",
       "      <th>0</th>\n",
       "      <td>case_erector</td>\n",
       "      <td>0:35:20</td>\n",
       "    </tr>\n",
       "    <tr>\n",
       "      <th>1</th>\n",
       "      <td>case_packer</td>\n",
       "      <td>0:24:14</td>\n",
       "    </tr>\n",
       "    <tr>\n",
       "      <th>2</th>\n",
       "      <td>filler</td>\n",
       "      <td>0:05:28</td>\n",
       "    </tr>\n",
       "    <tr>\n",
       "      <th>3</th>\n",
       "      <td>labeller</td>\n",
       "      <td>0:03:30</td>\n",
       "    </tr>\n",
       "    <tr>\n",
       "      <th>4</th>\n",
       "      <td>palletiser</td>\n",
       "      <td>0:01:03</td>\n",
       "    </tr>\n",
       "    <tr>\n",
       "      <th>5</th>\n",
       "      <td>vertilator</td>\n",
       "      <td>0:24:14</td>\n",
       "    </tr>\n",
       "  </tbody>\n",
       "</table>\n",
       "</div>"
      ],
      "text/plain": [
       "   machine_name sum_time_diff\n",
       "0  case_erector       0:35:20\n",
       "1   case_packer       0:24:14\n",
       "2        filler       0:05:28\n",
       "3      labeller       0:03:30\n",
       "4    palletiser       0:01:03\n",
       "5    vertilator       0:24:14"
      ]
     },
     "execution_count": 148,
     "metadata": {},
     "output_type": "execute_result"
    }
   ],
   "source": [
    "df8_1"
   ]
  },
  {
   "cell_type": "code",
   "execution_count": 149,
   "metadata": {},
   "outputs": [],
   "source": [
    "df8_1.to_csv('25-FEB-600-8_sum_time_diff.csv',index=False)"
   ]
  },
  {
   "cell_type": "code",
   "execution_count": 157,
   "metadata": {},
   "outputs": [],
   "source": [
    "def get_sec(time_str):\n",
    "    \"\"\"Get Seconds from time.\"\"\"\n",
    "    h, m, s = time_str.split(':')\n",
    "    return int(h) * 3600 + int(m) * 60 + int(s)\n",
    "\n",
    "sum_time_diff_sec = []\n",
    "for i in df8_1.sum_time_diff:\n",
    "    sum_time_diff_sec.append(get_sec(i))"
   ]
  },
  {
   "cell_type": "code",
   "execution_count": 158,
   "metadata": {},
   "outputs": [
    {
     "data": {
      "text/plain": [
       "[2120, 1454, 328, 210, 63, 1454]"
      ]
     },
     "execution_count": 158,
     "metadata": {},
     "output_type": "execute_result"
    }
   ],
   "source": [
    "sum_time_diff_sec"
   ]
  },
  {
   "cell_type": "code",
   "execution_count": 159,
   "metadata": {},
   "outputs": [],
   "source": [
    "df8_1['sum_time_diff_sec']=sum_time_diff_sec"
   ]
  },
  {
   "cell_type": "code",
   "execution_count": 161,
   "metadata": {},
   "outputs": [],
   "source": [
    "df8_1.to_csv('25-FEB-600-8_sum_time_diff.csv',index=False)"
   ]
  },
  {
   "cell_type": "code",
   "execution_count": 162,
   "metadata": {},
   "outputs": [
    {
     "data": {
      "text/plain": [
       "<matplotlib.axes._subplots.AxesSubplot at 0x2771f77f518>"
      ]
     },
     "execution_count": 162,
     "metadata": {},
     "output_type": "execute_result"
    },
    {
     "data": {
      "image/png": "[encoded data removed]",
      "text/plain": [
       "<Figure size 432x288 with 1 Axes>"
      ]
     },
     "metadata": {},
     "output_type": "display_data"
    }
   ],
   "source": [
    "df8_1.plot()"
   ]
  },
  {
   "cell_type": "code",
   "execution_count": null,
   "metadata": {},
   "outputs": [],
   "source": []
  }
 ],
 "metadata": {
  "kernelspec": {
   "display_name": "Python 3",
   "language": "python",
   "name": "python3"
  },
  "language_info": {
   "codemirror_mode": {
    "name": "ipython",
    "version": 3
   },
   "file_extension": ".py",
   "mimetype": "text/x-python",
   "name": "python",
   "nbconvert_exporter": "python",
   "pygments_lexer": "ipython3",
   "version": "3.6.5"
  }
 },
 "nbformat": 4,
 "nbformat_minor": 2
}
