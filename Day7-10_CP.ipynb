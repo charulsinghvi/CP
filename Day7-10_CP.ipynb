{
 "cells": [
  {
   "cell_type": "code",
   "execution_count": 1,
   "metadata": {},
   "outputs": [],
   "source": [
    "# import requests\n",
    "# import json \n",
    "# import csv \n",
    "# import pandas as pd\n",
    "# from functools import reduce\n",
    "# import glob\n",
    "# import datetime\n",
    "# from datetime import timedelta\n",
    "# from datetime import datetime\n",
    "# import matplotlib.pyplot as plt"
   ]
  },
  {
   "cell_type": "code",
   "execution_count": 2,
   "metadata": {},
   "outputs": [],
   "source": [
    "'''Reading json data in python file by hitting a link'''\n",
    "\n",
    "import requests\n",
    "\n",
    "r = requests.get('http://35.154.232.43:1200/api/stops/new?startTime=2020-02-25T10:00:00&endTime=2020-02-25T19:00:00')\n",
    "# print (r.json())\n",
    "\n",
    "# loading the data into the variable data \n",
    "a = r.json()\n",
    "\n",
    "# Storing length of file in a variable\n",
    "file_length = len(a)\n",
    "# len(a)"
   ]
  },
  {
   "cell_type": "code",
   "execution_count": 3,
   "metadata": {},
   "outputs": [],
   "source": [
    "# *RUN THIS CELL ONLY ONCE*\n",
    "\n",
    "# Python program to write JSON to a file  \n",
    "import json \n",
    "  \n",
    "# Data to be written \n",
    "with open(\"25-FEB-600.json\", \"w\") as outfile: \n",
    "    json.dump(a, outfile) "
   ]
  },
  {
   "cell_type": "code",
   "execution_count": null,
   "metadata": {},
   "outputs": [],
   "source": []
  },
  {
   "cell_type": "code",
   "execution_count": 4,
   "metadata": {},
   "outputs": [],
   "source": [
    "'''Python program to convert JSON file to CSV '''\n",
    "  \n",
    "# import json \n",
    "import csv \n",
    "  \n",
    "# Opening JSON file and loading the data into the variable data \n",
    "with open('25-FEB-600.json') as json_file: \n",
    "    data = json.load(json_file) "
   ]
  },
  {
   "cell_type": "code",
   "execution_count": 5,
   "metadata": {},
   "outputs": [],
   "source": [
    "# Converting json to csv \n",
    "\n",
    "# now we will open a file for writing \n",
    "data_file = open('25-FEB-600-1_main_file.csv', 'w', newline = '') \n",
    "  \n",
    "# create the csv writer object \n",
    "csv_writer = csv.writer(data_file) \n",
    "  \n",
    "# Counter variable used for writing  \n",
    "# headers to the CSV file \n",
    "count = 0\n",
    "  \n",
    "for dt in data: \n",
    "    \n",
    "    if count == 0: \n",
    "        # Writing headers of CSV file \n",
    "        header = dt.keys() \n",
    "        csv_writer.writerow(header) \n",
    "        count += 1\n",
    "        \n",
    "    # Writing data of CSV file \n",
    "    csv_writer.writerow(dt.values()) \n",
    "    \n",
    "data_file.close() "
   ]
  },
  {
   "cell_type": "code",
   "execution_count": null,
   "metadata": {},
   "outputs": [],
   "source": []
  },
  {
   "cell_type": "code",
   "execution_count": 6,
   "metadata": {},
   "outputs": [],
   "source": [
    "'''REMOVING THE UNDEFINED DATA ROWS FROM THE FILE AND WRITING IN NEW FILE'''\n",
    "\n",
    "# import csv\n",
    "with open('25-FEB-600-1_main_file.csv', 'r') as inp, open('25-FEB-600-2_removedUNDEFINED.csv', 'w', newline = '') as out:\n",
    "    writer = csv.writer(out)\n",
    "    for row in csv.reader(inp):\n",
    "        try:\n",
    "            if row[5].isdigit() != 0 or row[5]=='__v':\n",
    "                writer.writerow(row)\n",
    "        except IndexError:\n",
    "            continue\n",
    "            \n",
    "inp.close()\n",
    "out.close()"
   ]
  },
  {
   "cell_type": "code",
   "execution_count": null,
   "metadata": {},
   "outputs": [],
   "source": []
  },
  {
   "cell_type": "code",
   "execution_count": 7,
   "metadata": {},
   "outputs": [],
   "source": [
    "''' FIND AND REPLACE OPERATIONS IN DATAFRAME '''\n",
    "#  REPLACING Z with '' AND T with ' ' in start_time and end_time columns\n",
    "\n",
    "import pandas as pd\n",
    "\n",
    "df = pd.read_csv('25-FEB-600-2_removedUNDEFINED.csv')\n",
    "\n",
    "df['start_time'] = df['start_time'].str.replace('Z', '')\n",
    "df['start_time'] = df['start_time'].str.replace('T', ' ')\n",
    "df['end_time'] = df['end_time'].str.replace('Z', '')\n",
    "df['end_time'] = df['end_time'].str.replace('T', ' ')\n",
    "\n",
    "# COMMITING THE CHANGES MADE IN DATAFRAME TO THE SAME CSV FILE\n",
    "df.to_csv('25-FEB-600-2_find_replace.csv', index=False)"
   ]
  },
  {
   "cell_type": "code",
   "execution_count": null,
   "metadata": {},
   "outputs": [],
   "source": []
  },
  {
   "cell_type": "code",
   "execution_count": 8,
   "metadata": {
    "scrolled": true
   },
   "outputs": [],
   "source": [
    "''' Mapping fault names from different files to main file '''\n",
    "\n",
    "from functools import reduce\n",
    "import glob\n",
    "\n",
    "file1 = glob.glob('25-FEB-600-2_find_replace.csv')\n",
    "df1 = [pd.read_csv(fp) for fp in file1]\n",
    "# df1 \n",
    "# '''[1601 rows x 6 columns]'''"
   ]
  },
  {
   "cell_type": "code",
   "execution_count": 9,
   "metadata": {},
   "outputs": [],
   "source": [
    "# df2 = reduce(lambda left,right: pd.merge(left,right,on='stop_name'), df1)"
   ]
  },
  {
   "cell_type": "code",
   "execution_count": 10,
   "metadata": {
    "scrolled": true
   },
   "outputs": [],
   "source": [
    "# import glob\n",
    "\n",
    "file2_1 = glob.glob('case_packer.csv')\n",
    "df2_11 = [pd.read_csv(fp, index_col = ['stop_name']) for fp in file2_1]\n",
    "\n",
    "df2_12 = pd.concat(df2_11)\n",
    "df2_12['machine_name'] = 'case_packer'\n",
    "df2_12\n",
    "\n",
    "df2_case_packer = pd.merge(df, df2_12, on=['stop_name', 'machine_name'])\n",
    "# df2_case_packer\n",
    "\n",
    "total_case_packer = df2_case_packer['start_time'].count() "
   ]
  },
  {
   "cell_type": "code",
   "execution_count": 11,
   "metadata": {
    "scrolled": true
   },
   "outputs": [],
   "source": [
    "file2_2 = glob.glob('case_erector.csv')\n",
    "df2_21 = [pd.read_csv(fp, index_col = ['stop_name']) for fp in file2_2]\n",
    "\n",
    "df2_22 = pd.concat(df2_21)\n",
    "df2_22['machine_name'] = 'case_erector'\n",
    "df2_22\n",
    "\n",
    "df2_case_erector=pd.merge(df, df2_22, on=['stop_name', 'machine_name'])\n",
    "# df2_case_erector\n",
    "\n",
    "total_case_erector = df2_case_erector['start_time'].count() "
   ]
  },
  {
   "cell_type": "code",
   "execution_count": 12,
   "metadata": {
    "scrolled": true
   },
   "outputs": [],
   "source": [
    "file2_3 = glob.glob('filler.csv')\n",
    "df2_31 = [pd.read_csv(fp, index_col = ['stop_name']) for fp in file2_3]\n",
    "\n",
    "df2_32 = pd.concat(df2_31)\n",
    "df2_32['machine_name'] = 'filler'\n",
    "df2_32\n",
    "\n",
    "df2_filler=pd.merge(df, df2_32, on=['stop_name', 'machine_name'])\n",
    "# df2_filler\n",
    "\n",
    "total_filler = df2_filler['start_time'].count() "
   ]
  },
  {
   "cell_type": "code",
   "execution_count": 13,
   "metadata": {
    "scrolled": true
   },
   "outputs": [],
   "source": [
    "file2_4 = glob.glob('labeller.csv')\n",
    "df2_41 = [pd.read_csv(fp, index_col = ['stop_name']) for fp in file2_4]\n",
    "\n",
    "df2_42 = pd.concat(df2_41)\n",
    "df2_42['machine_name'] = 'labeller'\n",
    "df2_42\n",
    "\n",
    "df2_labeller=pd.merge(df, df2_42, on=['stop_name', 'machine_name'])\n",
    "# df2_labeller\n",
    "\n",
    "total_labeller = df2_labeller['start_time'].count() "
   ]
  },
  {
   "cell_type": "code",
   "execution_count": 14,
   "metadata": {
    "scrolled": true
   },
   "outputs": [],
   "source": [
    "file2_5 = glob.glob('palletiser.csv')\n",
    "df2_51 = [pd.read_csv(fp, index_col = ['stop_name']) for fp in file2_5]\n",
    "\n",
    "df2_52 = pd.concat(df2_51)\n",
    "df2_52['machine_name'] = 'palletiser'\n",
    "df2_52\n",
    "\n",
    "df2_palletiser=pd.merge(df, df2_52, on=['stop_name', 'machine_name'])\n",
    "# df2_palletiser\n",
    "\n",
    "total_palletiser = df2_palletiser['start_time'].count() "
   ]
  },
  {
   "cell_type": "code",
   "execution_count": 15,
   "metadata": {
    "scrolled": true
   },
   "outputs": [],
   "source": [
    "file2_6 = glob.glob('vertilator.csv')\n",
    "df2_61 = [pd.read_csv(fp, index_col = ['stop_name']) for fp in file2_6]\n",
    "\n",
    "df2_62 = pd.concat(df2_61)\n",
    "df2_62['machine_name'] = 'vertilator'\n",
    "df2_62\n",
    "\n",
    "df2_vertilator=pd.merge(df, df2_62, on=['stop_name', 'machine_name'])\n",
    "# df2_vertilator\n",
    "\n",
    "total_vertilator = df2_vertilator['start_time'].count() "
   ]
  },
  {
   "cell_type": "code",
   "execution_count": 16,
   "metadata": {
    "scrolled": true
   },
   "outputs": [],
   "source": [
    "file2_7 = glob.glob('case_sealer.csv')\n",
    "df2_71 = [pd.read_csv(fp, index_col = ['stop_name']) for fp in file2_7]\n",
    "\n",
    "df2_72 = pd.concat(df2_71)\n",
    "df2_72['machine_name'] = 'case_sealer'\n",
    "df2_72\n",
    "\n",
    "df2_case_sealer=pd.merge(df, df2_72, on=['stop_name', 'machine_name'])\n",
    "# df2_case_sealer\n",
    "\n",
    "total_case_sealer = df2_case_sealer['start_time'].count() "
   ]
  },
  {
   "cell_type": "code",
   "execution_count": 17,
   "metadata": {},
   "outputs": [],
   "source": [
    "file2_8 = glob.glob('induction.csv')\n",
    "df2_81 = [pd.read_csv(fp, index_col = ['stop_name']) for fp in file2_8]\n",
    "\n",
    "df2_82 = pd.concat(df2_81)\n",
    "df2_82['machine_name'] = 'induction'\n",
    "df2_82\n",
    "\n",
    "df2_induction=pd.merge(df, df2_82, on=['stop_name', 'machine_name'])\n",
    "# df2_induction\n",
    "\n",
    "total_induction = df2_induction['start_time'].count() "
   ]
  },
  {
   "cell_type": "code",
   "execution_count": 18,
   "metadata": {
    "scrolled": true
   },
   "outputs": [],
   "source": [
    "# Concatenating all the dataframes mapped differently\n",
    "\n",
    "df2 = pd.concat([df2_case_erector, df2_case_packer, df2_case_sealer, df2_filler, df2_induction, df2_labeller, df2_palletiser, df2_vertilator], axis=0)"
   ]
  },
  {
   "cell_type": "code",
   "execution_count": 19,
   "metadata": {},
   "outputs": [],
   "source": [
    "# Reflecting the concatenated values to the csv file\n",
    "\n",
    "df2.to_csv('25-FEB-600-3_mapped_faults.csv', index=False)"
   ]
  },
  {
   "cell_type": "code",
   "execution_count": null,
   "metadata": {},
   "outputs": [],
   "source": []
  },
  {
   "cell_type": "code",
   "execution_count": 20,
   "metadata": {},
   "outputs": [],
   "source": [
    "''' Finding difference in TIMESTAMP COLUMNS TO CSV FILE '''\n",
    "\n",
    "# import pandas as pd\n",
    "csv_input = pd.read_csv('25-FEB-600-3_mapped_faults.csv')\n",
    "\n",
    "end_time = list(csv_input['end_time'])\n",
    "start_time = list(csv_input['start_time'])"
   ]
  },
  {
   "cell_type": "code",
   "execution_count": 21,
   "metadata": {},
   "outputs": [],
   "source": [
    "# Calculating difference etween the end and start time\n",
    "\n",
    "import datetime\n",
    "from datetime import timedelta\n",
    " \n",
    "datetimeFormat = '%Y-%m-%d %H:%M:%S.%f'\n",
    "list3 = []\n",
    "for i in range(len(csv_input)):\n",
    "    date1 = end_time[i]\n",
    "    date2 = start_time[i]\n",
    "    diff = datetime.datetime.strptime(date1, datetimeFormat)\\\n",
    "        - datetime.datetime.strptime(date2, datetimeFormat)\n",
    "    \n",
    "    list3.append(diff)\n",
    "\n",
    "# list3"
   ]
  },
  {
   "cell_type": "code",
   "execution_count": 22,
   "metadata": {
    "scrolled": true
   },
   "outputs": [],
   "source": [
    "# storing diff in list\n",
    "\n",
    "from datetime import datetime\n",
    "\n",
    "def convert_timedelta(duration):\n",
    "    days, seconds, microseconds = duration.days, duration.seconds, duration.microseconds\n",
    "    hours = days * 24 + seconds // 3600\n",
    "    minutes = (seconds % 3600) // 60\n",
    "    seconds += microseconds/1000000\n",
    "    seconds = seconds % 60\n",
    "    return hours, minutes, seconds\n",
    "list3_1=[]\n",
    "for i in list3:\n",
    "    hours, minutes, seconds = convert_timedelta(i)\n",
    "    try:  \n",
    "        a=str(hours)+':'+str(minutes)+':'+str(round(seconds))\n",
    "        datetime_object = datetime.strptime(a, '%H:%M:%S')\n",
    "        list3_1.append(a)\n",
    "        \n",
    "    except ValueError:\n",
    "        c=str(hours%24)+':'+str(minutes)+':'+str(round(seconds)%60)\n",
    "        datetime_object = datetime.strptime(c, '%H:%M:%S')\n",
    "        list3_1.append(c)\n",
    "# list3_1"
   ]
  },
  {
   "cell_type": "code",
   "execution_count": 23,
   "metadata": {},
   "outputs": [],
   "source": [
    "# reflecting diff to the main csv file\n",
    "\n",
    "df4 = pd.read_csv('25-FEB-600-3_mapped_faults.csv')\n",
    "\n",
    "df4_1 = pd.DataFrame(list3_1,columns = ['time_diff'])\n",
    "df4['time_diff']  = df4_1\n",
    "\n",
    "df4.to_csv('25-FEB-600-4_time_diff.csv', index=False)"
   ]
  },
  {
   "cell_type": "code",
   "execution_count": null,
   "metadata": {},
   "outputs": [],
   "source": []
  },
  {
   "cell_type": "code",
   "execution_count": 133,
   "metadata": {},
   "outputs": [
    {
     "data": {
      "text/html": [
       "<div>\n",
       "<style scoped>\n",
       "    .dataframe tbody tr th:only-of-type {\n",
       "        vertical-align: middle;\n",
       "    }\n",
       "\n",
       "    .dataframe tbody tr th {\n",
       "        vertical-align: top;\n",
       "    }\n",
       "\n",
       "    .dataframe thead th {\n",
       "        text-align: right;\n",
       "    }\n",
       "</style>\n",
       "<table border=\"1\" class=\"dataframe\">\n",
       "  <thead>\n",
       "    <tr style=\"text-align: right;\">\n",
       "      <th></th>\n",
       "      <th>machine_name</th>\n",
       "      <th>fault_name</th>\n",
       "      <th>fault_frequency</th>\n",
       "    </tr>\n",
       "  </thead>\n",
       "  <tbody>\n",
       "    <tr>\n",
       "      <th>0</th>\n",
       "      <td>case_erector</td>\n",
       "      <td>CASE JAM IN MACHINE</td>\n",
       "      <td>1</td>\n",
       "    </tr>\n",
       "    <tr>\n",
       "      <th>1</th>\n",
       "      <td>case_erector</td>\n",
       "      <td>DOOR SWITCH S63 OPEN</td>\n",
       "      <td>3</td>\n",
       "    </tr>\n",
       "    <tr>\n",
       "      <th>2</th>\n",
       "      <td>case_erector</td>\n",
       "      <td>EMERGENCY PRESSED</td>\n",
       "      <td>2</td>\n",
       "    </tr>\n",
       "    <tr>\n",
       "      <th>3</th>\n",
       "      <td>case_erector</td>\n",
       "      <td>pdt</td>\n",
       "      <td>2</td>\n",
       "    </tr>\n",
       "    <tr>\n",
       "      <th>4</th>\n",
       "      <td>case_erector</td>\n",
       "      <td>ready</td>\n",
       "      <td>8</td>\n",
       "    </tr>\n",
       "    <tr>\n",
       "      <th>5</th>\n",
       "      <td>case_packer</td>\n",
       "      <td>Safety Door Open S61 132DS20</td>\n",
       "      <td>10</td>\n",
       "    </tr>\n",
       "    <tr>\n",
       "      <th>6</th>\n",
       "      <td>case_packer</td>\n",
       "      <td>Safety Door Open S63 132DS40</td>\n",
       "      <td>3</td>\n",
       "    </tr>\n",
       "    <tr>\n",
       "      <th>7</th>\n",
       "      <td>case_packer</td>\n",
       "      <td>fault_31</td>\n",
       "      <td>1</td>\n",
       "    </tr>\n",
       "    <tr>\n",
       "      <th>8</th>\n",
       "      <td>case_packer</td>\n",
       "      <td>fault_32</td>\n",
       "      <td>1</td>\n",
       "    </tr>\n",
       "    <tr>\n",
       "      <th>9</th>\n",
       "      <td>case_packer</td>\n",
       "      <td>pdt</td>\n",
       "      <td>2</td>\n",
       "    </tr>\n",
       "    <tr>\n",
       "      <th>10</th>\n",
       "      <td>case_packer</td>\n",
       "      <td>ready</td>\n",
       "      <td>55</td>\n",
       "    </tr>\n",
       "    <tr>\n",
       "      <th>11</th>\n",
       "      <td>case_sealer</td>\n",
       "      <td>manual_stop</td>\n",
       "      <td>14</td>\n",
       "    </tr>\n",
       "    <tr>\n",
       "      <th>12</th>\n",
       "      <td>case_sealer</td>\n",
       "      <td>pdt</td>\n",
       "      <td>2</td>\n",
       "    </tr>\n",
       "    <tr>\n",
       "      <th>13</th>\n",
       "      <td>case_sealer</td>\n",
       "      <td>ready</td>\n",
       "      <td>15</td>\n",
       "    </tr>\n",
       "    <tr>\n",
       "      <th>14</th>\n",
       "      <td>filler</td>\n",
       "      <td>CAPPER VACCUM MOTOR OVERLOAD</td>\n",
       "      <td>2</td>\n",
       "    </tr>\n",
       "    <tr>\n",
       "      <th>15</th>\n",
       "      <td>filler</td>\n",
       "      <td>FRONT DOOR LEFT OPENED</td>\n",
       "      <td>1</td>\n",
       "    </tr>\n",
       "    <tr>\n",
       "      <th>16</th>\n",
       "      <td>filler</td>\n",
       "      <td>OUTFEED STARWHEEL SLIPPED</td>\n",
       "      <td>2</td>\n",
       "    </tr>\n",
       "    <tr>\n",
       "      <th>17</th>\n",
       "      <td>filler</td>\n",
       "      <td>SIDE DOOR1 RIGHT OPENED</td>\n",
       "      <td>2</td>\n",
       "    </tr>\n",
       "    <tr>\n",
       "      <th>18</th>\n",
       "      <td>filler</td>\n",
       "      <td>blocked</td>\n",
       "      <td>28</td>\n",
       "    </tr>\n",
       "    <tr>\n",
       "      <th>19</th>\n",
       "      <td>filler</td>\n",
       "      <td>manual_stop</td>\n",
       "      <td>9</td>\n",
       "    </tr>\n",
       "    <tr>\n",
       "      <th>20</th>\n",
       "      <td>filler</td>\n",
       "      <td>pdt</td>\n",
       "      <td>2</td>\n",
       "    </tr>\n",
       "    <tr>\n",
       "      <th>21</th>\n",
       "      <td>filler</td>\n",
       "      <td>ready</td>\n",
       "      <td>74</td>\n",
       "    </tr>\n",
       "    <tr>\n",
       "      <th>22</th>\n",
       "      <td>induction</td>\n",
       "      <td>pdt</td>\n",
       "      <td>2</td>\n",
       "    </tr>\n",
       "    <tr>\n",
       "      <th>23</th>\n",
       "      <td>induction</td>\n",
       "      <td>ready</td>\n",
       "      <td>2</td>\n",
       "    </tr>\n",
       "    <tr>\n",
       "      <th>24</th>\n",
       "      <td>labeller</td>\n",
       "      <td>LABEL ROLL 1 NEAR_END</td>\n",
       "      <td>1</td>\n",
       "    </tr>\n",
       "    <tr>\n",
       "      <th>25</th>\n",
       "      <td>labeller</td>\n",
       "      <td>REJECTION BILL FULL</td>\n",
       "      <td>1</td>\n",
       "    </tr>\n",
       "    <tr>\n",
       "      <th>26</th>\n",
       "      <td>labeller</td>\n",
       "      <td>blocked</td>\n",
       "      <td>189</td>\n",
       "    </tr>\n",
       "    <tr>\n",
       "      <th>27</th>\n",
       "      <td>labeller</td>\n",
       "      <td>pdt</td>\n",
       "      <td>2</td>\n",
       "    </tr>\n",
       "    <tr>\n",
       "      <th>28</th>\n",
       "      <td>labeller</td>\n",
       "      <td>ready</td>\n",
       "      <td>192</td>\n",
       "    </tr>\n",
       "    <tr>\n",
       "      <th>29</th>\n",
       "      <td>palletiser</td>\n",
       "      <td>Safety circuit fault</td>\n",
       "      <td>3</td>\n",
       "    </tr>\n",
       "    <tr>\n",
       "      <th>30</th>\n",
       "      <td>palletiser</td>\n",
       "      <td>blocked</td>\n",
       "      <td>20</td>\n",
       "    </tr>\n",
       "    <tr>\n",
       "      <th>31</th>\n",
       "      <td>palletiser</td>\n",
       "      <td>pdt</td>\n",
       "      <td>2</td>\n",
       "    </tr>\n",
       "    <tr>\n",
       "      <th>32</th>\n",
       "      <td>palletiser</td>\n",
       "      <td>ready</td>\n",
       "      <td>54</td>\n",
       "    </tr>\n",
       "    <tr>\n",
       "      <th>33</th>\n",
       "      <td>vertilator</td>\n",
       "      <td>E Stop Pressed Vertilator Bottom</td>\n",
       "      <td>1</td>\n",
       "    </tr>\n",
       "    <tr>\n",
       "      <th>34</th>\n",
       "      <td>vertilator</td>\n",
       "      <td>Phase Loss Vertilator</td>\n",
       "      <td>1</td>\n",
       "    </tr>\n",
       "    <tr>\n",
       "      <th>35</th>\n",
       "      <td>vertilator</td>\n",
       "      <td>Safety Fencing Open Vertilator Top</td>\n",
       "      <td>1</td>\n",
       "    </tr>\n",
       "    <tr>\n",
       "      <th>36</th>\n",
       "      <td>vertilator</td>\n",
       "      <td>blocked</td>\n",
       "      <td>332</td>\n",
       "    </tr>\n",
       "    <tr>\n",
       "      <th>37</th>\n",
       "      <td>vertilator</td>\n",
       "      <td>pdt</td>\n",
       "      <td>2</td>\n",
       "    </tr>\n",
       "    <tr>\n",
       "      <th>38</th>\n",
       "      <td>vertilator</td>\n",
       "      <td>ready</td>\n",
       "      <td>390</td>\n",
       "    </tr>\n",
       "    <tr>\n",
       "      <th>39</th>\n",
       "      <td>vertilator</td>\n",
       "      <td>waiting</td>\n",
       "      <td>167</td>\n",
       "    </tr>\n",
       "  </tbody>\n",
       "</table>\n",
       "</div>"
      ],
      "text/plain": [
       "    machine_name                          fault_name  fault_frequency\n",
       "0   case_erector                 CASE JAM IN MACHINE                1\n",
       "1   case_erector                DOOR SWITCH S63 OPEN                3\n",
       "2   case_erector                   EMERGENCY PRESSED                2\n",
       "3   case_erector                                 pdt                2\n",
       "4   case_erector                               ready                8\n",
       "5    case_packer        Safety Door Open S61 132DS20               10\n",
       "6    case_packer        Safety Door Open S63 132DS40                3\n",
       "7    case_packer                            fault_31                1\n",
       "8    case_packer                            fault_32                1\n",
       "9    case_packer                                 pdt                2\n",
       "10   case_packer                               ready               55\n",
       "11   case_sealer                         manual_stop               14\n",
       "12   case_sealer                                 pdt                2\n",
       "13   case_sealer                               ready               15\n",
       "14        filler        CAPPER VACCUM MOTOR OVERLOAD                2\n",
       "15        filler              FRONT DOOR LEFT OPENED                1\n",
       "16        filler           OUTFEED STARWHEEL SLIPPED                2\n",
       "17        filler             SIDE DOOR1 RIGHT OPENED                2\n",
       "18        filler                             blocked               28\n",
       "19        filler                         manual_stop                9\n",
       "20        filler                                 pdt                2\n",
       "21        filler                               ready               74\n",
       "22     induction                                 pdt                2\n",
       "23     induction                               ready                2\n",
       "24      labeller               LABEL ROLL 1 NEAR_END                1\n",
       "25      labeller                 REJECTION BILL FULL                1\n",
       "26      labeller                             blocked              189\n",
       "27      labeller                                 pdt                2\n",
       "28      labeller                               ready              192\n",
       "29    palletiser                Safety circuit fault                3\n",
       "30    palletiser                             blocked               20\n",
       "31    palletiser                                 pdt                2\n",
       "32    palletiser                               ready               54\n",
       "33    vertilator    E Stop Pressed Vertilator Bottom                1\n",
       "34    vertilator               Phase Loss Vertilator                1\n",
       "35    vertilator  Safety Fencing Open Vertilator Top                1\n",
       "36    vertilator                             blocked              332\n",
       "37    vertilator                                 pdt                2\n",
       "38    vertilator                               ready              390\n",
       "39    vertilator                             waiting              167"
      ]
     },
     "execution_count": 133,
     "metadata": {},
     "output_type": "execute_result"
    }
   ],
   "source": [
    "'''Creating Frequency Count File'''\n",
    "\n",
    "# Frequency Count in a dataframe\n",
    "\n",
    "df5 = pd.read_csv('25-FEB-600-4_time_diff.csv')\n",
    "\n",
    "df5_1 = pd.DataFrame({'fault_frequency' : df5.groupby(['machine_name', 'fault_name'])['time_diff'].count()}).reset_index()\n",
    "df5_1"
   ]
  },
  {
   "cell_type": "code",
   "execution_count": 127,
   "metadata": {},
   "outputs": [],
   "source": [
    "df5_1.to_csv('25-FEB-600-5_fault_frequency.csv', index=False)"
   ]
  },
  {
   "cell_type": "code",
   "execution_count": 129,
   "metadata": {},
   "outputs": [
    {
     "data": {
      "text/plain": [
       "<matplotlib.axes._subplots.AxesSubplot at 0x24acc834668>"
      ]
     },
     "execution_count": 129,
     "metadata": {},
     "output_type": "execute_result"
    },
    {
     "data": {
      "image/png": "[encoded data removed]",
      "text/plain": [
       "<Figure size 1440x360 with 1 Axes>"
      ]
     },
     "metadata": {},
     "output_type": "display_data"
    }
   ],
   "source": [
    "df5_1.plot(figsize = (20,5))"
   ]
  },
  {
   "cell_type": "code",
   "execution_count": 117,
   "metadata": {},
   "outputs": [],
   "source": [
    "import matplotlib.pyplot as plt\n",
    "\n",
    "plt.plot(df5_1['machine_name'],df['Violent'], color = 'b', label='Violent')"
   ]
  },
  {
   "cell_type": "code",
   "execution_count": 118,
   "metadata": {},
   "outputs": [],
   "source": []
  },
  {
   "cell_type": "code",
   "execution_count": 126,
   "metadata": {
    "scrolled": true
   },
   "outputs": [],
   "source": []
  },
  {
   "cell_type": "code",
   "execution_count": 120,
   "metadata": {
    "scrolled": true
   },
   "outputs": [],
   "source": [
    "# import matplotlib.pyplot as plt\n",
    "# df5_3"
   ]
  },
  {
   "cell_type": "code",
   "execution_count": 110,
   "metadata": {
    "scrolled": true
   },
   "outputs": [],
   "source": [
    "# df5_4 = pd.DataFrame(df5_3, columns = ['fault_frequency'])\n",
    "# df5_4"
   ]
  },
  {
   "cell_type": "code",
   "execution_count": 121,
   "metadata": {
    "scrolled": true
   },
   "outputs": [],
   "source": [
    "# df5_4.plot(figsize = (20,5))\n",
    "\n",
    "# # df5_5 = df5_4[df5_4['fault_name'] != 'pdt']\n",
    "# df5_4['fault_frequency']"
   ]
  },
  {
   "cell_type": "code",
   "execution_count": 69,
   "metadata": {},
   "outputs": [],
   "source": [
    "# df5_4.plot(subplots = True)"
   ]
  },
  {
   "cell_type": "code",
   "execution_count": 122,
   "metadata": {},
   "outputs": [],
   "source": [
    "# df5_5 = pd.read_csv('25-FEB-600-5_fault_frequency.csv')"
   ]
  },
  {
   "cell_type": "code",
   "execution_count": 123,
   "metadata": {},
   "outputs": [],
   "source": [
    "# df5_5"
   ]
  },
  {
   "cell_type": "code",
   "execution_count": null,
   "metadata": {},
   "outputs": [],
   "source": []
  },
  {
   "cell_type": "code",
   "execution_count": null,
   "metadata": {},
   "outputs": [],
   "source": []
  },
  {
   "cell_type": "code",
   "execution_count": null,
   "metadata": {},
   "outputs": [],
   "source": []
  },
  {
   "cell_type": "code",
   "execution_count": null,
   "metadata": {},
   "outputs": [],
   "source": [
    "# df6 = pd.read_csv('25-FEB-600-4_time_diff.csv')\n",
    "# df6_1 = df6.groupby(['machine_name'])['time_diff'].sum()\n",
    "\n",
    "# # df6_1 = df5.groupby(['machine_name'])\n",
    "# df6_1"
   ]
  },
  {
   "cell_type": "code",
   "execution_count": null,
   "metadata": {},
   "outputs": [],
   "source": []
  }
 ],
 "metadata": {
  "kernelspec": {
   "display_name": "Python 3",
   "language": "python",
   "name": "python3"
  },
  "language_info": {
   "codemirror_mode": {
    "name": "ipython",
    "version": 3
   },
   "file_extension": ".py",
   "mimetype": "text/x-python",
   "name": "python",
   "nbconvert_exporter": "python",
   "pygments_lexer": "ipython3",
   "version": "3.6.5"
  }
 },
 "nbformat": 4,
 "nbformat_minor": 2
}
